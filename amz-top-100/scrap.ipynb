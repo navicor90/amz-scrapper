{
 "cells": [
  {
   "cell_type": "markdown",
   "metadata": {},
   "source": [
    "\n",
    "## About this project\n",
    "\n",
    "We want a csv with data about most sold products in amazon, because we want to check in another websites if this products are cheaper and we can re-sell in amazon. To do this, we need specific information like the product model,brand,price, merchants, how often is sold, etc.\n",
    "\n",
    "I will scrap in a specific main category of products (I already know some other sites selling this products with cheaper prices :D ). \n",
    "\n",
    "Technologies used:\n",
    "- Selenium\n",
    "- BeautifulSoup (utils.py)\n",
    "- Pandas"
   ]
  },
  {
   "cell_type": "code",
   "execution_count": 2,
   "metadata": {},
   "outputs": [],
   "source": [
    "%load_ext autoreload\n",
    "%autoreload 2"
   ]
  },
  {
   "cell_type": "code",
   "execution_count": 3,
   "metadata": {},
   "outputs": [],
   "source": [
    "from selenium import webdriver\n",
    "import pandas as pd\n",
    "import time\n",
    "import random\n",
    "from utils import (soup_content_from_url,\n",
    "                    elements_from_soup_bestsellers_web, \n",
    "                    subcategories_from_bestsellers_web,\n",
    "                    detail_dict_from_product_page,\n",
    "                    load_obj,\n",
    "                    save_obj)"
   ]
  },
  {
   "cell_type": "code",
   "execution_count": 4,
   "metadata": {},
   "outputs": [],
   "source": [
    "driver = webdriver.Firefox()\n",
    "soups = []"
   ]
  },
  {
   "cell_type": "markdown",
   "metadata": {},
   "source": [
    "## Scrapping the main category\n",
    "The problem is amazon show me just the top 100 most sold products, and is a very tiny market for me. So I will scrap many subcategories in this main category to get more than 100 products. Just we'll use the subcategories list in category web page.\n",
    "\n",
    "### Set initial Category URL\n",
    "We will set the main category url. "
   ]
  },
  {
   "cell_type": "code",
   "execution_count": 5,
   "metadata": {},
   "outputs": [],
   "source": [
    "base_url = 'https://www.amazon.es'\n",
    "bestsellers_webs=[\n",
    "    #{'name':'beauty','url':'https://www.amazon.es/gp/bestsellers/beauty/ref=zg_bs_pg_%i?ie=UTF8&pg=%i'},\n",
    "    #{'name':'office','url': base_url + '/gp/bestsellers/office/ref=zg_bs_pg_%i?ie=UTF8&pg=%i'},\n",
    "    {'name':'computers','url': base_url + '/gp/bestsellers/computers/ref=zg_bs_nav_%i?ie=UTF8&pg=%i'},\n",
    "]"
   ]
  },
  {
   "cell_type": "markdown",
   "metadata": {},
   "source": [
    "### Getting the html content from the URL\n",
    "Use the beautiful soup library to get the html content in a useful format. "
   ]
  },
  {
   "cell_type": "code",
   "execution_count": 6,
   "metadata": {},
   "outputs": [
    {
     "name": "stdout",
     "output_type": "stream",
     "text": [
      "Category: computers\n",
      "https://www.amazon.es/gp/bestsellers/computers/ref=zg_bs_nav_1?ie=UTF8&pg=1\n",
      "https://www.amazon.es/gp/bestsellers/computers/ref=zg_bs_nav_2?ie=UTF8&pg=2\n"
     ]
    }
   ],
   "source": [
    "def soup_from_bestsellers_url(url,page):\n",
    "    url = w['url']%(page,page)\n",
    "    print(url)\n",
    "    return soup_content_from_url(driver, url), url\n",
    "     \n",
    "for w in bestsellers_webs:\n",
    "    print(f\"Category: {w['name']}\")\n",
    "    w['soups'] = []\n",
    "    \n",
    "    soup, url = soup_from_bestsellers_url(w['url'],page=1)\n",
    "    w['soups'].append(soup)\n",
    "    # Sleep is to avoid banning from amazon servers.\n",
    "    time.sleep(5)\n",
    "    \n",
    "    soup_from_bestsellers_url(w['url'], page=2)\n",
    "    w['soups'].append(soup)\n",
    "    time.sleep(5)"
   ]
  },
  {
   "cell_type": "markdown",
   "metadata": {},
   "source": [
    "### Getting subcategories\n",
    "We use the html soup resource to preprocess and get its subcategories"
   ]
  },
  {
   "cell_type": "code",
   "execution_count": 7,
   "metadata": {},
   "outputs": [
    {
     "data": {
      "text/plain": [
       "[{'name': 'Accesorios',\n",
       "  'url': 'https://www.amazon.es/gp/bestsellers/computers/937753031/ref=zg_bs_nav_computers_1_computers/257-7699657-9620336'},\n",
       " {'name': 'Componentes',\n",
       "  'url': 'https://www.amazon.es/gp/bestsellers/computers/937912031/ref=zg_bs_nav_computers_1_computers/257-7699657-9620336'},\n",
       " {'name': 'Dispositivos de red',\n",
       "  'url': 'https://www.amazon.es/gp/bestsellers/computers/937958031/ref=zg_bs_nav_computers_1_computers/257-7699657-9620336'},\n",
       " {'name': 'Monitores',\n",
       "  'url': 'https://www.amazon.es/gp/bestsellers/computers/937992031/ref=zg_bs_nav_computers_1_computers/257-7699657-9620336'},\n",
       " {'name': 'Ordenadores de sobremesa',\n",
       "  'url': 'https://www.amazon.es/gp/bestsellers/computers/937994031/ref=zg_bs_nav_computers_1_computers/257-7699657-9620336'},\n",
       " {'name': 'Portátiles',\n",
       "  'url': 'https://www.amazon.es/gp/bestsellers/computers/938008031/ref=zg_bs_nav_computers_1_computers/257-7699657-9620336'},\n",
       " {'name': 'Servidores',\n",
       "  'url': 'https://www.amazon.es/gp/bestsellers/computers/938009031/ref=zg_bs_nav_computers_1_computers/257-7699657-9620336'},\n",
       " {'name': 'Tablets',\n",
       "  'url': 'https://www.amazon.es/gp/bestsellers/computers/938010031/ref=zg_bs_nav_computers_1_computers/257-7699657-9620336'},\n",
       " {'name': 'Almacenamiento de datos',\n",
       "  'url': 'https://www.amazon.es/gp/bestsellers/computers/17478027031/ref=zg_bs_nav_computers_1_computers/257-7699657-9620336'},\n",
       " {'name': 'Barebones',\n",
       "  'url': 'https://www.amazon.es/gp/bestsellers/computers/937913031/ref=zg_bs_nav_computers_1_computers/257-7699657-9620336'},\n",
       " {'name': 'Escáneres y accesorios',\n",
       "  'url': 'https://www.amazon.es/gp/bestsellers/computers/17482568031/ref=zg_bs_nav_computers_1_computers/257-7699657-9620336'},\n",
       " {'name': 'Impresoras y accesorios',\n",
       "  'url': 'https://www.amazon.es/gp/bestsellers/computers/17482570031/ref=zg_bs_nav_computers_1_computers/257-7699657-9620336'},\n",
       " {'name': 'Tablets de escritura LCD y eWriters',\n",
       "  'url': 'https://www.amazon.es/gp/bestsellers/computers/15424901031/ref=zg_bs_nav_computers_1_computers/257-7699657-9620336'}]"
      ]
     },
     "execution_count": 7,
     "metadata": {},
     "output_type": "execute_result"
    }
   ],
   "source": [
    "category = bestsellers_webs[0]\n",
    "subcategories = subcategories_from_bestsellers_web(category['soups'][0])\n",
    "## We delete the first element, its an autoreference url\n",
    "subcategories.pop(0)\n",
    "subcategories"
   ]
  },
  {
   "cell_type": "markdown",
   "metadata": {},
   "source": [
    "## Scrapping subcategories\n",
    "\n",
    "From now we have a list with each subcategory, and we can use this URLs to get a products list with information like the product name, price, the amazon product page url.\n",
    "\n",
    "### Getting the HTML content from each subcategory\n",
    "Initially we need this content in beautfulsoup format in order to could scrap each page looking for the data."
   ]
  },
  {
   "cell_type": "code",
   "execution_count": 8,
   "metadata": {
    "scrolled": true
   },
   "outputs": [
    {
     "name": "stdout",
     "output_type": "stream",
     "text": [
      "Subcategory: Accesorios\n",
      "https://www.amazon.es/gp/bestsellers/computers/ref=zg_bs_nav_%i?ie=UTF8&pg=%i\n",
      "Subcategory: Componentes\n",
      "https://www.amazon.es/gp/bestsellers/computers/ref=zg_bs_nav_%i?ie=UTF8&pg=%i\n",
      "Subcategory: Dispositivos de red\n",
      "https://www.amazon.es/gp/bestsellers/computers/ref=zg_bs_nav_%i?ie=UTF8&pg=%i\n",
      "Subcategory: Monitores\n",
      "https://www.amazon.es/gp/bestsellers/computers/ref=zg_bs_nav_%i?ie=UTF8&pg=%i\n",
      "Subcategory: Ordenadores de sobremesa\n",
      "https://www.amazon.es/gp/bestsellers/computers/ref=zg_bs_nav_%i?ie=UTF8&pg=%i\n",
      "Subcategory: Portátiles\n",
      "https://www.amazon.es/gp/bestsellers/computers/ref=zg_bs_nav_%i?ie=UTF8&pg=%i\n",
      "Subcategory: Servidores\n",
      "https://www.amazon.es/gp/bestsellers/computers/ref=zg_bs_nav_%i?ie=UTF8&pg=%i\n",
      "Subcategory: Tablets\n",
      "https://www.amazon.es/gp/bestsellers/computers/ref=zg_bs_nav_%i?ie=UTF8&pg=%i\n",
      "Subcategory: Almacenamiento de datos\n",
      "https://www.amazon.es/gp/bestsellers/computers/ref=zg_bs_nav_%i?ie=UTF8&pg=%i\n",
      "Subcategory: Barebones\n",
      "https://www.amazon.es/gp/bestsellers/computers/ref=zg_bs_nav_%i?ie=UTF8&pg=%i\n",
      "Subcategory: Escáneres y accesorios\n",
      "https://www.amazon.es/gp/bestsellers/computers/ref=zg_bs_nav_%i?ie=UTF8&pg=%i\n",
      "Subcategory: Impresoras y accesorios\n",
      "https://www.amazon.es/gp/bestsellers/computers/ref=zg_bs_nav_%i?ie=UTF8&pg=%i\n",
      "Subcategory: Tablets de escritura LCD y eWriters\n",
      "https://www.amazon.es/gp/bestsellers/computers/ref=zg_bs_nav_%i?ie=UTF8&pg=%i\n"
     ]
    }
   ],
   "source": [
    "for s in subcategories:\n",
    "    print(f\"Subcategory: {s['name']}\")\n",
    "    s['soups'] = []\n",
    "    s['soups'].append(soup_content_from_url(driver, s['url']))\n",
    "    print(w['url'])\n",
    "    time.sleep(5)"
   ]
  },
  {
   "cell_type": "markdown",
   "metadata": {},
   "source": [
    "### Extracting data from html content subcategory\n",
    "We need information about the products in that category like how much is a product sold(badge), the product name, the price and the url."
   ]
  },
  {
   "cell_type": "code",
   "execution_count": 21,
   "metadata": {},
   "outputs": [
    {
     "data": {
      "text/html": [
       "<div>\n",
       "<style scoped>\n",
       "    .dataframe tbody tr th:only-of-type {\n",
       "        vertical-align: middle;\n",
       "    }\n",
       "\n",
       "    .dataframe tbody tr th {\n",
       "        vertical-align: top;\n",
       "    }\n",
       "\n",
       "    .dataframe thead th {\n",
       "        text-align: right;\n",
       "    }\n",
       "</style>\n",
       "<table border=\"1\" class=\"dataframe\">\n",
       "  <thead>\n",
       "    <tr style=\"text-align: right;\">\n",
       "      <th></th>\n",
       "      <th></th>\n",
       "      <th>Product</th>\n",
       "      <th>Price</th>\n",
       "      <th>Link</th>\n",
       "    </tr>\n",
       "    <tr>\n",
       "      <th></th>\n",
       "      <th>Badge</th>\n",
       "      <th></th>\n",
       "      <th></th>\n",
       "      <th></th>\n",
       "    </tr>\n",
       "  </thead>\n",
       "  <tbody>\n",
       "    <tr>\n",
       "      <th rowspan=\"3\" valign=\"top\">Accesorios</th>\n",
       "      <th>#1</th>\n",
       "      <td>Amazon Fire TV Stick con mando por voz Alexa |...</td>\n",
       "      <td>39.99</td>\n",
       "      <td>/amazon-fire-tv-stick-con-mando-por-voz-alexa-...</td>\n",
       "    </tr>\n",
       "    <tr>\n",
       "      <th>#2</th>\n",
       "      <td>Logitech B100 Ratón con Cable, 3 Botones, Segu...</td>\n",
       "      <td>4.99</td>\n",
       "      <td>/Logitech-B100-Rat%C3%B3n-%C3%B3ptico-color/dp...</td>\n",
       "    </tr>\n",
       "    <tr>\n",
       "      <th>#3</th>\n",
       "      <td>Rampow Cable Lightning Cable Cargador iPhone-[...</td>\n",
       "      <td>8.99</td>\n",
       "      <td>/Rampow-Lightning-Cargador-iPhone-Certificado/...</td>\n",
       "    </tr>\n",
       "  </tbody>\n",
       "</table>\n",
       "</div>"
      ],
      "text/plain": [
       "                                                            Product  Price  \\\n",
       "           Badge                                                             \n",
       "Accesorios #1     Amazon Fire TV Stick con mando por voz Alexa |...  39.99   \n",
       "           #2     Logitech B100 Ratón con Cable, 3 Botones, Segu...   4.99   \n",
       "           #3     Rampow Cable Lightning Cable Cargador iPhone-[...   8.99   \n",
       "\n",
       "                                                               Link  \n",
       "           Badge                                                     \n",
       "Accesorios #1     /amazon-fire-tv-stick-con-mando-por-voz-alexa-...  \n",
       "           #2     /Logitech-B100-Rat%C3%B3n-%C3%B3ptico-color/dp...  \n",
       "           #3     /Rampow-Lightning-Cargador-iPhone-Certificado/...  "
      ]
     },
     "execution_count": 21,
     "metadata": {},
     "output_type": "execute_result"
    }
   ],
   "source": [
    "import locale\n",
    "# $ sudo locale-gen es_ES\n",
    "# $ sudo locale-gen es_ES.UTF-8\n",
    "locale.setlocale(locale.LC_ALL, 'es_ES.UTF-8')\n",
    "\n",
    "elements_df = []\n",
    "elements_keys = []\n",
    "for s in subcategories:\n",
    "    edf = elements_from_soup_bestsellers_web(s['soups'][0])\n",
    "    edf = edf.set_index('Badge')\n",
    "    elements_df.append(edf)\n",
    "    elements_keys.append(s['name'])\n",
    "df = pd.concat(elements_df, keys=elements_keys)\n",
    "df.Price = df.Price.str.replace('\\xa0','').map(lambda x: locale.atof(x)).astype(float)\n",
    "df.head(3)"
   ]
  },
  {
   "cell_type": "code",
   "execution_count": 22,
   "metadata": {},
   "outputs": [],
   "source": [
    "df.to_csv(category['name']+'_subcategories.csv')"
   ]
  },
  {
   "cell_type": "markdown",
   "metadata": {},
   "source": [
    "So, we have our data in csv format, yeah!. After I look our dataframe, I was thinking about if we had the sellers quantity offering each product, and the product id, we will find specific products in other websites. And where is that info? yep, it's in the product page, so we just need to navigate to each one, and add that information in our dataframe."
   ]
  },
  {
   "cell_type": "markdown",
   "metadata": {},
   "source": [
    "## Scrapping Amazon Product Pages\n",
    "So, we'll iterate each product in our dataframe, getting its product page. This will be a slow process because we don't want a ban from amazon."
   ]
  },
  {
   "cell_type": "code",
   "execution_count": 24,
   "metadata": {},
   "outputs": [],
   "source": [
    "soups = {}\n",
    "for i,r in df.iterrows():    \n",
    "    soups[r.Link] = soup_content_from_url(driver, base_url+r.Link)\n",
    "    time.sleep(random.randint(1,5))"
   ]
  },
  {
   "cell_type": "code",
   "execution_count": 25,
   "metadata": {},
   "outputs": [
    {
     "data": {
      "text/plain": [
       "615"
      ]
     },
     "execution_count": 25,
     "metadata": {},
     "output_type": "execute_result"
    }
   ],
   "source": [
    "len(soups)"
   ]
  },
  {
   "cell_type": "markdown",
   "metadata": {},
   "source": [
    "### Saving pickle object\n",
    "We do this because if we lost our data, we have a little backup and we don't need to make again requests to amazon."
   ]
  },
  {
   "cell_type": "code",
   "execution_count": 26,
   "metadata": {},
   "outputs": [],
   "source": [
    "save_obj(soups,'computer_soups')"
   ]
  },
  {
   "cell_type": "markdown",
   "metadata": {},
   "source": [
    "Loading saved data (optional)"
   ]
  },
  {
   "cell_type": "code",
   "execution_count": 27,
   "metadata": {},
   "outputs": [],
   "source": [
    "# soups = load_obj('product_soups')"
   ]
  },
  {
   "cell_type": "markdown",
   "metadata": {},
   "source": [
    "### Getting detail from html content\n",
    "We process the soup data in order to get the product details in pandas dataframe format"
   ]
  },
  {
   "cell_type": "code",
   "execution_count": 31,
   "metadata": {},
   "outputs": [
    {
     "name": "stdout",
     "output_type": "stream",
     "text": [
      "None\n",
      "fail looking:/Memoria-Flash-SanDisk-Velocidad-Lectura/dp/B077VYCV37/ref=zg_bs_17478027031_10?_encoding=UTF8&psc=1&refRID=FXVGHN6MZ1GYQXED23HA\n"
     ]
    },
    {
     "data": {
      "text/plain": [
       "{}"
      ]
     },
     "execution_count": 31,
     "metadata": {},
     "output_type": "execute_result"
    }
   ],
   "source": [
    "url=\"/Memoria-Flash-SanDisk-Velocidad-Lectura/dp/B077VYCV37/ref=zg_bs_17478027031_10?_encoding=UTF8&psc=1&refRID=FXVGHN6MZ1GYQXED23HA\"\n",
    "detail_dict_from_product_page(soups[url],url)"
   ]
  },
  {
   "cell_type": "code",
   "execution_count": 32,
   "metadata": {
    "scrolled": false
   },
   "outputs": [
    {
     "data": {
      "text/plain": [
       "<html class=\"a-no-js\" lang=\"es\"><!--<![endif]--><head>\n",
       "<meta content=\"text/html; charset=utf-8\" http-equiv=\"content-type\"/>\n",
       "<meta charset=\"utf-8\"/>\n",
       "<meta content=\"IE=edge,chrome=1\" http-equiv=\"X-UA-Compatible\"/>\n",
       "<title dir=\"ltr\">Amazon CAPTCHA</title>\n",
       "<meta content=\"width=device-width\" name=\"viewport\"/>\n",
       "<link href=\"https://images-na.ssl-images-amazon.com/images/G/01/AUIClients/AmazonUI-3c913031596ca78a3768f4e934b1cc02ce238101.secure.min._V1_.css\" rel=\"stylesheet\"/>\n",
       "<script>\n",
       "\n",
       "if (true === true) {\n",
       "    var ue_t0 = (+ new Date()),\n",
       "        ue_csm = window,\n",
       "        ue = { t0: ue_t0, d: function() { return (+new Date() - ue_t0); } },\n",
       "        ue_furl = \"fls-eu.amazon.es\",\n",
       "        ue_mid = \"A1RKKUPIHCS9HS\",\n",
       "        ue_sid = (document.cookie.match(/session-id=([0-9-]+)/) || [])[1],\n",
       "        ue_sn = \"opfcaptcha.amazon.es\",\n",
       "        ue_id = 'SHDEGMEMPRF4QPBMG6N2';\n",
       "}\n",
       "</script>\n",
       "<script src=\"https://images-eu.ssl-images-amazon.com/images/G/01/csminstrumentation/csm-captcha-instrumentation.min.js\"></script><script src=\"https://images-eu.ssl-images-amazon.com/images/G/01/csminstrumentation/rd-script-6d68177fa6061598e9509dc4b5bdd08d.js\"></script><script src=\"https://images-na.ssl-images-amazon.com/images/G/01/csminstrumentation/ue-base-1c399ad9886cab69575e1e5ee15c61a1._V313498596_.js\"></script><script src=\"https://images-na.ssl-images-amazon.com/images/G/01/AUIClients/ClientSideMetricsAUIJavascript-51171fbdd28e1a7a61e922e8f0272af8bc74d37b.secure.variant-desktop-session-snapshot-keypress.min._V2_.js\"></script></head>\n",
       "<body>\n",
       "<!--\n",
       "        To discuss automated access to Amazon data please contact api-services-support@amazon.com.\n",
       "        For information about migrating to our APIs refer to our Marketplace APIs at https://developer.amazonservices.es/ref=rm_c_sv, or our Product Advertising API at https://afiliados.amazon.es/gp/advertising/api/detail/main.html/ref=rm_c_ac for advertising use cases.\n",
       "-->\n",
       "<!--\n",
       "Correios.DoNotSend\n",
       "-->\n",
       "<div class=\"a-container a-padding-double-large\" style=\"min-width:350px;padding:44px 0 !important\">\n",
       "<div class=\"a-row a-spacing-double-large\" style=\"width: 350px; margin: 0 auto\">\n",
       "<div class=\"a-row a-spacing-medium a-text-center\"><i class=\"a-icon a-logo\"></i></div>\n",
       "<div class=\"a-box a-alert a-alert-info a-spacing-base\">\n",
       "<div class=\"a-box-inner\">\n",
       "<i class=\"a-icon a-icon-alert\"></i>\n",
       "<h4>Introduce los caracteres que se muestran a continuación</h4>\n",
       "<p class=\"a-last\">Lo sentimos, tenemos que asegurarnos de que eres una persona. Para obtener el mejor resultado, asegúrate de que tu navegador acepta cookies.</p>\n",
       "</div>\n",
       "</div>\n",
       "<div class=\"a-section\">\n",
       "<div class=\"a-box a-color-offset-background\">\n",
       "<div class=\"a-box-inner a-padding-extra-large\">\n",
       "<form action=\"/errors/validateCaptcha\" method=\"get\" name=\"\">\n",
       "<input name=\"amzn\" type=\"hidden\" value=\"5EH8YyNbdPYEA/1Zng7MBA==\"/><input name=\"amzn-r\" type=\"hidden\" value=\"/Memoria-Flash-SanDisk-Velocidad-Lectura/dp/B077VYCV37/ref=zg_bs_17478027031_10?_encoding=UTF8&amp;psc=1&amp;refRID=FXVGHN6MZ1GYQXED23HA\"/>\n",
       "<div class=\"a-row a-spacing-large\">\n",
       "<div class=\"a-box\">\n",
       "<div class=\"a-box-inner\">\n",
       "<h4>Teclea los caracteres que aparecen en la imagen:</h4>\n",
       "<!-- For automated access to price change or offer listing change events,\n",
       "                                             please refer to the MWS Subscription API:\n",
       "                                             https://developer.amazonservices.es/gp/mws/api.html/276-5247872-0590350?ie=UTF8&section=subscriptions&group=subscriptions&version=latest\n",
       "                                        -->\n",
       "<div class=\"a-row a-text-center\">\n",
       "<img src=\"https://images-na.ssl-images-amazon.com/captcha/bcxmjlko/Captcha_lbgypwgwts.jpg\"/>\n",
       "</div>\n",
       "<div class=\"a-row a-spacing-base\">\n",
       "<div class=\"a-row\">\n",
       "<div class=\"a-column a-span6\">\n",
       "</div>\n",
       "<div class=\"a-column a-span6 a-span-last a-text-right\">\n",
       "<a onclick=\"window.location.reload()\">Probar con una imagen distinta</a>\n",
       "</div>\n",
       "</div>\n",
       "<input autocapitalize=\"off\" autocomplete=\"off\" autocorrect=\"off\" class=\"a-span12\" id=\"captchacharacters\" name=\"field-keywords\" placeholder=\"Introduce los caracteres\" spellcheck=\"false\" type=\"text\"/>\n",
       "</div>\n",
       "</div>\n",
       "</div>\n",
       "</div>\n",
       "<div class=\"a-section a-spacing-extra-large\">\n",
       "<div class=\"a-row\">\n",
       "<span class=\"a-button a-button-primary a-span12\">\n",
       "<span class=\"a-button-inner\">\n",
       "<button class=\"a-button-text\" type=\"submit\">Seguir comprando</button>\n",
       "</span>\n",
       "</span>\n",
       "</div>\n",
       "</div>\n",
       "</form>\n",
       "</div>\n",
       "</div>\n",
       "</div>\n",
       "</div>\n",
       "<div class=\"a-divider a-divider-section\"><div class=\"a-divider-inner\"></div></div>\n",
       "<div class=\"a-text-center a-spacing-small a-size-mini\">\n",
       "<a href=\"https://www.amazon.es/gp/help/customer/display.html/ref=footer_cou?ie=UTF8&amp;nodeId=200545940\">Condiciones de Uso y Venta</a>\n",
       "<span class=\"a-letter-space\"></span>\n",
       "<span class=\"a-letter-space\"></span>\n",
       "<span class=\"a-letter-space\"></span>\n",
       "<span class=\"a-letter-space\"></span>\n",
       "<a href=\"https://www.amazon.es/gp/help/customer/display.html/ref=footer_privacy?ie=UTF8&amp;nodeId=200545460\">Aviso de privacidad</a>\n",
       "</div>\n",
       "<div class=\"a-text-center a-size-mini a-color-secondary\">\n",
       "          © 1996-2015, Amazon.com, Inc. o afiliados\n",
       "          <script>\n",
       "           if (true === true) {\n",
       "             document.write('<img src=\"https://fls-eu.amaz'+'on.es/'+'1/oc-csi/1/OP/requestId=SHDEGMEMPRF4QPBMG6N2&js=1\" />');\n",
       "           };\n",
       "          </script><img src=\"https://fls-eu.amazon.es/1/oc-csi/1/OP/requestId=SHDEGMEMPRF4QPBMG6N2&amp;js=1\"/>\n",
       "<noscript>\n",
       "<img src=\"https://fls-eu.amazon.es/1/oc-csi/1/OP/requestId=SHDEGMEMPRF4QPBMG6N2&amp;js=0\"/>\n",
       "</noscript>\n",
       "</div>\n",
       "</div>\n",
       "<script>\n",
       "    if (true === true) {\n",
       "        var head = document.getElementsByTagName('head')[0],\n",
       "            prefix = \"https://images-eu.ssl-images-amazon.com/images/G/01/csminstrumentation/\",\n",
       "            elem = document.createElement(\"script\");\n",
       "        elem.src = prefix + \"csm-captcha-instrumentation.min.js\";\n",
       "        head.appendChild(elem);\n",
       "\n",
       "        elem = document.createElement(\"script\");\n",
       "        elem.src = prefix + \"rd-script-6d68177fa6061598e9509dc4b5bdd08d.js\";\n",
       "        head.appendChild(elem);\n",
       "    }\n",
       "    </script>\n",
       "</body></html>"
      ]
     },
     "execution_count": 32,
     "metadata": {},
     "output_type": "execute_result"
    }
   ],
   "source": [
    "soups[url]"
   ]
  },
  {
   "cell_type": "code",
   "execution_count": 29,
   "metadata": {
    "scrolled": true
   },
   "outputs": [
    {
     "name": "stdout",
     "output_type": "stream",
     "text": [
      "fail looking:/amazon-fire-tv-stick-con-mando-por-voz-alexa-reproductor-de-contenido-multimedia-en-streaming/dp/B07PVCVBN7/ref=zg_bs_937753031_1?_encoding=UTF8&psc=1&refRID=CPPZKFDMAXDJDGM7E55E\n",
      "fail looking:/amazon-amazon-fire-tv-stick-4k-alexa-reproductor-de-contenido-multimedia-en-streaming/dp/B07PW9VBK5/ref=zg_bs_937753031_9?_encoding=UTF8&psc=1&refRID=CPPZKFDMAXDJDGM7E55E\n",
      "fail looking:/Apple-MLA22Y-A-Teclado/dp/B016UPAXBE/ref=zg_bs_937912031_15?_encoding=UTF8&psc=1&refRID=3KKH8048XN9KR57XCD0E\n",
      "fail looking:/Apple-iMac-Ordenador-Quad-Core-Teclado/dp/B071K2RVHF/ref=zg_bs_937994031_22?_encoding=UTF8&psc=1&refRID=2G1W036NNG69CMNR2AAX\n",
      "fail looking:/Apple-Mac-mini-Ordenador-procesador/dp/B07K2RP84Q/ref=zg_bs_937994031_37?_encoding=UTF8&psc=1&refRID=2G1W036NNG69CMNR2AAX\n",
      "fail looking:/Apple-MacBook-13-pulgadas-n%C3%BAcleo-generaci%C3%B3n/dp/B0863G2M7F/ref=zg_bs_938008031_5?_encoding=UTF8&psc=1&refRID=XN7VTQ2S7MEZN3VBQXEF\n",
      "fail looking:/Nuevo-Apple-MacBook-pulgadas-almacenamiento/dp/B081G9YQ73/ref=zg_bs_938008031_20?_encoding=UTF8&psc=1&refRID=XN7VTQ2S7MEZN3VBQXEF\n",
      "fail looking:/Apple-MacBook-13-pulgadas-n%C3%BAcleo-generaci%C3%B3n/dp/B08639GP33/ref=zg_bs_938008031_33?_encoding=UTF8&psc=1&refRID=XN7VTQ2S7MEZN3VBQXEF\n",
      "fail looking:/Apple-MacBook-13-pulgadas-n%C3%BAcleo-generaci%C3%B3n/dp/B08637D2Z9/ref=zg_bs_938008031_39?_encoding=UTF8&psc=1&refRID=XN7VTQ2S7MEZN3VBQXEF\n",
      "fail looking:/YESTEL-X7-Octa-Core-Bluetooth-teclado-Plata/dp/B07WPDYB1F/ref=zg_bs_938010031_15?_encoding=UTF8&psc=1&refRID=EWQ9KNW9KA30DZ3C9YHS\n",
      "fail looking:/Broken-jom-Quad-Core-inal%C3%A1mbrico-estuche%EF%BC%88Blanco%EF%BC%89/dp/B07X8N6CPN/ref=zg_bs_938010031_16?_encoding=UTF8&psc=1&refRID=EWQ9KNW9KA30DZ3C9YHS\n",
      "fail looking:/Huawei-MediaPad-T3-Android-ADRENO308/dp/B07XZJTMHX/ref=zg_bs_938010031_17?_encoding=UTF8&psc=1&refRID=EWQ9KNW9KA30DZ3C9YHS\n",
      "fail looking:/Samsung-Galaxy-Tab-Tablet-c%C3%A1mara/dp/B07VGQGRJB/ref=zg_bs_938010031_18?_encoding=UTF8&psc=1&refRID=EWQ9KNW9KA30DZ3C9YHS\n",
      "fail looking:/Pulgadas-YESTEL-Android-Tableta-1280X800/dp/B085J1HRRM/ref=zg_bs_938010031_19?_encoding=UTF8&psc=1&refRID=EWQ9KNW9KA30DZ3C9YHS\n",
      "fail looking:/Pulgadas-S20-Procesador-Octa-Core-Bluetooth/dp/B082H8P541/ref=zg_bs_938010031_21?_encoding=UTF8&psc=1&refRID=EWQ9KNW9KA30DZ3C9YHS\n",
      "fail looking:/Completa-Pantalla-Pulgadas-Quad-Core-Bluetooth/dp/B07XT5L9N5/ref=zg_bs_938010031_22?_encoding=UTF8&psc=1&refRID=EWQ9KNW9KA30DZ3C9YHS\n",
      "fail looking:/Pulgadas-incorporada-Tarjetas-desbloquear-tel%C3%A9fono/dp/B07VQJ72YB/ref=zg_bs_938010031_23?_encoding=UTF8&psc=1&refRID=EWQ9KNW9KA30DZ3C9YHS\n",
      "fail looking:/Pantalla-Pulgadas-Tarjetas-Quad-Core-Bluetooth/dp/B07XT4PNWL/ref=zg_bs_938010031_24?_encoding=UTF8&psc=1&refRID=EWQ9KNW9KA30DZ3C9YHS\n",
      "fail looking:/HXY-Pantalla-Pulgadas-Quad-Core-Bluetooth/dp/B0811CTDZR/ref=zg_bs_938010031_25?_encoding=UTF8&psc=1&refRID=EWQ9KNW9KA30DZ3C9YHS\n",
      "fail looking:/HXY-Pantalla-definici%C3%B3n-Quad-Core-Bluetooth/dp/B0832JK4K2/ref=zg_bs_938010031_26?_encoding=UTF8&psc=1&refRID=EWQ9KNW9KA30DZ3C9YHS\n",
      "fail looking:/Lenovo-MediaTek-ampliables-Android-Bluetooth/dp/B083QSRJ2F/ref=zg_bs_938010031_27?_encoding=UTF8&psc=1&refRID=EWQ9KNW9KA30DZ3C9YHS\n",
      "fail looking:/Huawei-Media-Pad-T5-Memoria/dp/B07G71P91G/ref=zg_bs_938010031_28?_encoding=UTF8&psc=1&refRID=EWQ9KNW9KA30DZ3C9YHS\n",
      "fail looking:/Tablets-Pulgadas-Android-Quad-Core-8000mAh/dp/B081RYKB1L/ref=zg_bs_938010031_29?_encoding=UTF8&psc=1&refRID=EWQ9KNW9KA30DZ3C9YHS\n",
      "fail looking:/10-Zoll-Tablet-WiFi-Prozessor-Bluetooth-Navigation-Dual-SIM-Speicher-Mobiltelefon/dp/B07WYJG6KY/ref=zg_bs_938010031_30?_encoding=UTF8&psc=1&refRID=EWQ9KNW9KA30DZ3C9YHS\n",
      "fail looking:/Huawei-Mediapad-Procesador-Quad-Core-Snapdragon/dp/B06XWJ5HMY/ref=zg_bs_938010031_31?_encoding=UTF8&psc=1&refRID=EWQ9KNW9KA30DZ3C9YHS\n",
      "fail looking:/Dragon-Touch-Bluetooth-Kid-Proof-Educativo/dp/B07QVD7X17/ref=zg_bs_938010031_32?_encoding=UTF8&psc=1&refRID=EWQ9KNW9KA30DZ3C9YHS\n",
      "fail looking:/Huawei-Media-Pad-T5-Android/dp/B085MRLVMN/ref=zg_bs_938010031_34?_encoding=UTF8&psc=1&refRID=EWQ9KNW9KA30DZ3C9YHS\n",
      "fail looking:/Tablets-Pulgadas-Android-Quad-Core-8000mAh/dp/B081RZ8NDW/ref=zg_bs_938010031_35?_encoding=UTF8&psc=1&refRID=EWQ9KNW9KA30DZ3C9YHS\n",
      "fail looking:/Samsung-Galaxy-Tab-Lite-Almacenamiento/dp/B08717ZF1C/ref=zg_bs_938010031_37?_encoding=UTF8&psc=1&refRID=EWQ9KNW9KA30DZ3C9YHS\n",
      "fail looking:/Pulgadas-YESTEL-X2-Protectora-Tastiera/dp/B085H85K49/ref=zg_bs_938010031_38?_encoding=UTF8&psc=1&refRID=EWQ9KNW9KA30DZ3C9YHS\n",
      "fail looking:/LNMBBS-X116-Pulgadas-Memoria-Procesador/dp/B083GDKNNR/ref=zg_bs_938010031_39?_encoding=UTF8&psc=1&refRID=EWQ9KNW9KA30DZ3C9YHS\n",
      "fail looking:/Huawei-MediaPad-M6-Pantalla-Titanio/dp/B081LV85T4/ref=zg_bs_938010031_40?_encoding=UTF8&psc=1&refRID=EWQ9KNW9KA30DZ3C9YHS\n",
      "fail looking:/Dragon-Touch-Bluetooth-Kid-Proof-Educativo/dp/B07SRYN1F5/ref=zg_bs_938010031_41?_encoding=UTF8&psc=1&refRID=EWQ9KNW9KA30DZ3C9YHS\n",
      "fail looking:/Pulgadas-YESTEL-Android-Tablets-8000mAH-Plata/dp/B085HBY4JJ/ref=zg_bs_938010031_42?_encoding=UTF8&psc=1&refRID=EWQ9KNW9KA30DZ3C9YHS\n",
      "fail looking:/Lenovo-TAB4-Snapdragon-operativo-Bluetooth/dp/B0721KFTW6/ref=zg_bs_938010031_43?_encoding=UTF8&psc=1&refRID=EWQ9KNW9KA30DZ3C9YHS\n",
      "fail looking:/Tablet-Pulgadas-Android-Memoria-Escalable/dp/B07V7WT8T7/ref=zg_bs_938010031_45?_encoding=UTF8&psc=1&refRID=EWQ9KNW9KA30DZ3C9YHS\n",
      "fail looking:/Samsung-Galagy-Tab-Almacenamiento-actualizable/dp/B07QRB9J7S/ref=zg_bs_938010031_46?_encoding=UTF8&psc=1&refRID=EWQ9KNW9KA30DZ3C9YHS\n",
      "fail looking:/Huawei-Mediapad-Procesador-Quad-Core-Snapdragon/dp/B06XX4WSLC/ref=zg_bs_938010031_47?_encoding=UTF8&psc=1&refRID=EWQ9KNW9KA30DZ3C9YHS\n",
      "fail looking:/Android-Procesador-n%C3%BAcleos-Memoria-Ranuras/dp/B07KSVJCTY/ref=zg_bs_938010031_49?_encoding=UTF8&psc=1&refRID=EWQ9KNW9KA30DZ3C9YHS\n",
      "fail looking:/YESTEL-X7-Pulgadas-Expandido-Teclado-Plata/dp/B081L9M836/ref=zg_bs_938010031_50?_encoding=UTF8&psc=1&refRID=EWQ9KNW9KA30DZ3C9YHS\n",
      "fail looking:/SanDisk-Ultra-Android-microSDXC-Adaptador/dp/B073JYVKNX/ref=zg_bs_17478027031_1?_encoding=UTF8&psc=1&refRID=FXVGHN6MZ1GYQXED23HA\n",
      "fail looking:/Tarjeta-SanDisk-microSDXC-Adaptador-Velocidad/dp/B073JYC4XM/ref=zg_bs_17478027031_2?_encoding=UTF8&psc=1&refRID=FXVGHN6MZ1GYQXED23HA\n",
      "fail looking:/SanDisk-Ultra-Android-microSDHC-Adaptador/dp/B073JWXGNT/ref=zg_bs_17478027031_3?_encoding=UTF8&psc=1&refRID=FXVGHN6MZ1GYQXED23HA\n",
      "fail looking:/SanDisk-Extreme-Tarjeta-microSDXC-adaptador/dp/B07FCMKK5X/ref=zg_bs_17478027031_4?_encoding=UTF8&psc=1&refRID=FXVGHN6MZ1GYQXED23HA\n",
      "fail looking:/Toshiba-Canvio-Basics-Port%C3%A1til-Pulgadas/dp/B07994QL95/ref=zg_bs_17478027031_5?_encoding=UTF8&psc=1&refRID=FXVGHN6MZ1GYQXED23HA\n",
      "fail looking:/Memoria-Flash-SanDisk-Velocidad-Lectura/dp/B015CH1PJU/ref=zg_bs_17478027031_6?_encoding=UTF8&psc=1&refRID=FXVGHN6MZ1GYQXED23HA\n",
      "fail looking:/Memoria-Flash-SanDisk-Velocidad-Lectura/dp/B015CH1NAQ/ref=zg_bs_17478027031_7?_encoding=UTF8&psc=1&refRID=FXVGHN6MZ1GYQXED23HA\n",
      "fail looking:/Toshiba-Canvio-Basics-port%C3%A1til-Pulgadas/dp/B07997KKSK/ref=zg_bs_17478027031_8?_encoding=UTF8&psc=1&refRID=FXVGHN6MZ1GYQXED23HA\n",
      "fail looking:/SanDisk-Extreme-Tarjeta-microSDXC-adaptador/dp/B07FCMBLV6/ref=zg_bs_17478027031_9?_encoding=UTF8&psc=1&refRID=FXVGHN6MZ1GYQXED23HA\n",
      "fail looking:/Memoria-Flash-SanDisk-Velocidad-Lectura/dp/B077VYCV37/ref=zg_bs_17478027031_10?_encoding=UTF8&psc=1&refRID=FXVGHN6MZ1GYQXED23HA\n",
      "fail looking:/Memoria-Flash-SanDisk-Velocidad-Lectura/dp/B015CH1JIW/ref=zg_bs_17478027031_13?_encoding=UTF8&psc=1&refRID=FXVGHN6MZ1GYQXED23HA\n",
      "fail looking:/Samsung-EVO-Plus-Tarjeta-Adaptador/dp/B06XFWPXYD/ref=zg_bs_17478027031_14?_encoding=UTF8&psc=1&refRID=FXVGHN6MZ1GYQXED23HA\n",
      "fail looking:/Kingston-DT100G3-32GB-Memoria-color/dp/B00C5K8E1A/ref=zg_bs_17478027031_16?_encoding=UTF8&psc=1&refRID=FXVGHN6MZ1GYQXED23HA\n",
      "fail looking:/Tri-Colour-Original-Cartucho-adecuado-Multicolor/dp/B01EA0HDRI/ref=zg_bs_17482570031_3?_encoding=UTF8&psc=1&refRID=CQ7B8J6V0WN4342W3999\n",
      "fail looking:/Canon-Valuepack-Impresora-Inyeccion-TS5150-TS5051-MX375-MX395-MX435-MX455-MX475-MX515-MX525-MX535-MG2150-MG2250-MG3150-MG3250-MG3550-MG3650-MG4150-MG4250/dp/B015U4DY6W/ref=zg_bs_17482570031_6?_encoding=UTF8&psc=1&refRID=CQ7B8J6V0WN4342W3999\n",
      "fail looking:/Mony-Remanufacturado-Cartuchos-Compatible-Impresoras/dp/B07TSJ7TRX/ref=zg_bs_17482570031_9?_encoding=UTF8&psc=1&refRID=CQ7B8J6V0WN4342W3999\n"
     ]
    },
    {
     "data": {
      "text/html": [
       "<div>\n",
       "<style scoped>\n",
       "    .dataframe tbody tr th:only-of-type {\n",
       "        vertical-align: middle;\n",
       "    }\n",
       "\n",
       "    .dataframe tbody tr th {\n",
       "        vertical-align: top;\n",
       "    }\n",
       "\n",
       "    .dataframe thead th {\n",
       "        text-align: right;\n",
       "    }\n",
       "</style>\n",
       "<table border=\"1\" class=\"dataframe\">\n",
       "  <thead>\n",
       "    <tr style=\"text-align: right;\">\n",
       "      <th></th>\n",
       "      <th>Link</th>\n",
       "      <th>Marca</th>\n",
       "      <th>Series</th>\n",
       "      <th>Peso del producto</th>\n",
       "      <th>Dimensiones del producto</th>\n",
       "      <th>Número de modelo del producto</th>\n",
       "      <th>Color</th>\n",
       "      <th>Factor de forma</th>\n",
       "      <th>Fabricante del procesador</th>\n",
       "      <th>Tipo de procesador</th>\n",
       "      <th>...</th>\n",
       "      <th>Sistema de medida</th>\n",
       "      <th>Peso</th>\n",
       "      <th>Resolución horizontal</th>\n",
       "      <th>Potencia</th>\n",
       "      <th>Estabilización de imagen</th>\n",
       "      <th>Tamaño del folio</th>\n",
       "      <th>Volumen</th>\n",
       "      <th>Tipo de salida de la impresora</th>\n",
       "      <th>Idioma principal</th>\n",
       "      <th>Tipo(s) de material</th>\n",
       "    </tr>\n",
       "  </thead>\n",
       "  <tbody>\n",
       "    <tr>\n",
       "      <th>0</th>\n",
       "      <td>/amazon-fire-tv-stick-con-mando-por-voz-alexa-...</td>\n",
       "      <td>NaN</td>\n",
       "      <td>NaN</td>\n",
       "      <td>NaN</td>\n",
       "      <td>NaN</td>\n",
       "      <td>NaN</td>\n",
       "      <td>NaN</td>\n",
       "      <td>NaN</td>\n",
       "      <td>NaN</td>\n",
       "      <td>NaN</td>\n",
       "      <td>...</td>\n",
       "      <td>NaN</td>\n",
       "      <td>NaN</td>\n",
       "      <td>NaN</td>\n",
       "      <td>NaN</td>\n",
       "      <td>NaN</td>\n",
       "      <td>NaN</td>\n",
       "      <td>NaN</td>\n",
       "      <td>NaN</td>\n",
       "      <td>NaN</td>\n",
       "      <td>NaN</td>\n",
       "    </tr>\n",
       "    <tr>\n",
       "      <th>1</th>\n",
       "      <td>/Logitech-B100-Rat%C3%B3n-%C3%B3ptico-color/dp...</td>\n",
       "      <td>Logitech</td>\n",
       "      <td>B100</td>\n",
       "      <td>99,8 g</td>\n",
       "      <td>13 x 9 x 5 cm</td>\n",
       "      <td>910-003357</td>\n",
       "      <td>Negro</td>\n",
       "      <td>Ambidextro</td>\n",
       "      <td>Intel</td>\n",
       "      <td>Ninguno</td>\n",
       "      <td>...</td>\n",
       "      <td>NaN</td>\n",
       "      <td>NaN</td>\n",
       "      <td>NaN</td>\n",
       "      <td>NaN</td>\n",
       "      <td>NaN</td>\n",
       "      <td>NaN</td>\n",
       "      <td>NaN</td>\n",
       "      <td>NaN</td>\n",
       "      <td>NaN</td>\n",
       "      <td>NaN</td>\n",
       "    </tr>\n",
       "  </tbody>\n",
       "</table>\n",
       "<p>2 rows × 167 columns</p>\n",
       "</div>"
      ],
      "text/plain": [
       "                                                Link     Marca Series  \\\n",
       "0  /amazon-fire-tv-stick-con-mando-por-voz-alexa-...       NaN    NaN   \n",
       "1  /Logitech-B100-Rat%C3%B3n-%C3%B3ptico-color/dp...  Logitech   B100   \n",
       "\n",
       "  Peso del producto Dimensiones del producto Número de modelo del producto  \\\n",
       "0               NaN                      NaN                           NaN   \n",
       "1            99,8 g            13 x 9 x 5 cm                    910-003357   \n",
       "\n",
       "   Color Factor de forma Fabricante del procesador Tipo de procesador  ...  \\\n",
       "0    NaN             NaN                       NaN                NaN  ...   \n",
       "1  Negro      Ambidextro                     Intel            Ninguno  ...   \n",
       "\n",
       "  Sistema de medida Peso Resolución horizontal Potencia  \\\n",
       "0               NaN  NaN                   NaN      NaN   \n",
       "1               NaN  NaN                   NaN      NaN   \n",
       "\n",
       "  Estabilización de imagen Tamaño del folio Volumen  \\\n",
       "0                      NaN              NaN     NaN   \n",
       "1                      NaN              NaN     NaN   \n",
       "\n",
       "  Tipo de salida de la impresora Idioma principal Tipo(s) de material  \n",
       "0                            NaN              NaN                 NaN  \n",
       "1                            NaN              NaN                 NaN  \n",
       "\n",
       "[2 rows x 167 columns]"
      ]
     },
     "execution_count": 29,
     "metadata": {},
     "output_type": "execute_result"
    }
   ],
   "source": [
    "details = []\n",
    "for url,soup in soups.items():\n",
    "    d = detail_dict_from_product_page(soup,url)\n",
    "    d['Link'] = url\n",
    "    details.append(d)\n",
    "detaildf = pd.DataFrame(details)\n",
    "detaildf.head(2)"
   ]
  },
  {
   "cell_type": "code",
   "execution_count": 33,
   "metadata": {},
   "outputs": [
    {
     "data": {
      "text/html": [
       "<div>\n",
       "<style scoped>\n",
       "    .dataframe tbody tr th:only-of-type {\n",
       "        vertical-align: middle;\n",
       "    }\n",
       "\n",
       "    .dataframe tbody tr th {\n",
       "        vertical-align: top;\n",
       "    }\n",
       "\n",
       "    .dataframe thead th {\n",
       "        text-align: right;\n",
       "    }\n",
       "</style>\n",
       "<table border=\"1\" class=\"dataframe\">\n",
       "  <thead>\n",
       "    <tr style=\"text-align: right;\">\n",
       "      <th></th>\n",
       "      <th>level_0</th>\n",
       "      <th>Badge</th>\n",
       "      <th>Product</th>\n",
       "      <th>Price</th>\n",
       "      <th>link</th>\n",
       "      <th>Marca</th>\n",
       "      <th>Series</th>\n",
       "      <th>Peso del producto</th>\n",
       "      <th>Dimensiones del producto</th>\n",
       "      <th>Número de modelo del producto</th>\n",
       "      <th>...</th>\n",
       "      <th>Sistema de medida</th>\n",
       "      <th>Peso</th>\n",
       "      <th>Resolución horizontal</th>\n",
       "      <th>Potencia</th>\n",
       "      <th>Estabilización de imagen</th>\n",
       "      <th>Tamaño del folio</th>\n",
       "      <th>Volumen</th>\n",
       "      <th>Tipo de salida de la impresora</th>\n",
       "      <th>Idioma principal</th>\n",
       "      <th>Tipo(s) de material</th>\n",
       "    </tr>\n",
       "  </thead>\n",
       "  <tbody>\n",
       "    <tr>\n",
       "      <th>0</th>\n",
       "      <td>Accesorios</td>\n",
       "      <td>#1</td>\n",
       "      <td>Amazon Fire TV Stick con mando por voz Alexa |...</td>\n",
       "      <td>39.99</td>\n",
       "      <td>/amazon-fire-tv-stick-con-mando-por-voz-alexa-...</td>\n",
       "      <td>NaN</td>\n",
       "      <td>NaN</td>\n",
       "      <td>NaN</td>\n",
       "      <td>NaN</td>\n",
       "      <td>NaN</td>\n",
       "      <td>...</td>\n",
       "      <td>NaN</td>\n",
       "      <td>NaN</td>\n",
       "      <td>NaN</td>\n",
       "      <td>NaN</td>\n",
       "      <td>NaN</td>\n",
       "      <td>NaN</td>\n",
       "      <td>NaN</td>\n",
       "      <td>NaN</td>\n",
       "      <td>NaN</td>\n",
       "      <td>NaN</td>\n",
       "    </tr>\n",
       "    <tr>\n",
       "      <th>1</th>\n",
       "      <td>Accesorios</td>\n",
       "      <td>#2</td>\n",
       "      <td>Logitech B100 Ratón con Cable, 3 Botones, Segu...</td>\n",
       "      <td>4.99</td>\n",
       "      <td>/Logitech-B100-Rat%C3%B3n-%C3%B3ptico-color/dp...</td>\n",
       "      <td>Logitech</td>\n",
       "      <td>B100</td>\n",
       "      <td>99,8 g</td>\n",
       "      <td>13 x 9 x 5 cm</td>\n",
       "      <td>910-003357</td>\n",
       "      <td>...</td>\n",
       "      <td>NaN</td>\n",
       "      <td>NaN</td>\n",
       "      <td>NaN</td>\n",
       "      <td>NaN</td>\n",
       "      <td>NaN</td>\n",
       "      <td>NaN</td>\n",
       "      <td>NaN</td>\n",
       "      <td>NaN</td>\n",
       "      <td>NaN</td>\n",
       "      <td>NaN</td>\n",
       "    </tr>\n",
       "    <tr>\n",
       "      <th>2</th>\n",
       "      <td>Accesorios</td>\n",
       "      <td>#3</td>\n",
       "      <td>Rampow Cable Lightning Cable Cargador iPhone-[...</td>\n",
       "      <td>8.99</td>\n",
       "      <td>/Rampow-Lightning-Cargador-iPhone-Certificado/...</td>\n",
       "      <td>RAMPOW</td>\n",
       "      <td>NaN</td>\n",
       "      <td>18,1 g</td>\n",
       "      <td>22,8 x 20,8 x 4 cm</td>\n",
       "      <td>RAMPOW01</td>\n",
       "      <td>...</td>\n",
       "      <td>NaN</td>\n",
       "      <td>NaN</td>\n",
       "      <td>NaN</td>\n",
       "      <td>NaN</td>\n",
       "      <td>NaN</td>\n",
       "      <td>NaN</td>\n",
       "      <td>NaN</td>\n",
       "      <td>NaN</td>\n",
       "      <td>NaN</td>\n",
       "      <td>NaN</td>\n",
       "    </tr>\n",
       "  </tbody>\n",
       "</table>\n",
       "<p>3 rows × 171 columns</p>\n",
       "</div>"
      ],
      "text/plain": [
       "      level_0 Badge                                            Product  Price  \\\n",
       "0  Accesorios    #1  Amazon Fire TV Stick con mando por voz Alexa |...  39.99   \n",
       "1  Accesorios    #2  Logitech B100 Ratón con Cable, 3 Botones, Segu...   4.99   \n",
       "2  Accesorios    #3  Rampow Cable Lightning Cable Cargador iPhone-[...   8.99   \n",
       "\n",
       "                                                link     Marca Series  \\\n",
       "0  /amazon-fire-tv-stick-con-mando-por-voz-alexa-...       NaN    NaN   \n",
       "1  /Logitech-B100-Rat%C3%B3n-%C3%B3ptico-color/dp...  Logitech   B100   \n",
       "2  /Rampow-Lightning-Cargador-iPhone-Certificado/...    RAMPOW    NaN   \n",
       "\n",
       "  Peso del producto Dimensiones del producto Número de modelo del producto  \\\n",
       "0               NaN                      NaN                           NaN   \n",
       "1            99,8 g            13 x 9 x 5 cm                    910-003357   \n",
       "2            18,1 g       22,8 x 20,8 x 4 cm                      RAMPOW01   \n",
       "\n",
       "   ... Sistema de medida Peso Resolución horizontal Potencia  \\\n",
       "0  ...               NaN  NaN                   NaN      NaN   \n",
       "1  ...               NaN  NaN                   NaN      NaN   \n",
       "2  ...               NaN  NaN                   NaN      NaN   \n",
       "\n",
       "  Estabilización de imagen Tamaño del folio Volumen  \\\n",
       "0                      NaN              NaN     NaN   \n",
       "1                      NaN              NaN     NaN   \n",
       "2                      NaN              NaN     NaN   \n",
       "\n",
       "  Tipo de salida de la impresora Idioma principal Tipo(s) de material  \n",
       "0                            NaN              NaN                 NaN  \n",
       "1                            NaN              NaN                 NaN  \n",
       "2                            NaN              NaN                 NaN  \n",
       "\n",
       "[3 rows x 171 columns]"
      ]
     },
     "execution_count": 33,
     "metadata": {},
     "output_type": "execute_result"
    }
   ],
   "source": [
    "# Avoiding merge conflicts with Link ref query param\n",
    "df['link'] = df['Link'].map(lambda x: x.split('ref=')[0])\n",
    "detaildf['link'] = detaildf['Link'].map(lambda x: x.split('ref=')[0])\n",
    "# Merging\n",
    "dfe = pd.merge(df.reset_index(),detaildf,on='link')\n",
    "dfe = dfe.drop(['Link_x','Link_y'],axis=1)\n",
    "dfe.head(3)"
   ]
  },
  {
   "cell_type": "code",
   "execution_count": 34,
   "metadata": {},
   "outputs": [
    {
     "data": {
      "text/plain": [
       "['level_0',\n",
       " 'Badge',\n",
       " 'Product',\n",
       " 'Price',\n",
       " 'link',\n",
       " 'Marca',\n",
       " 'Series',\n",
       " 'Peso del producto',\n",
       " 'Dimensiones del producto',\n",
       " 'Número de modelo del producto',\n",
       " 'Color',\n",
       " 'Factor de forma',\n",
       " 'Fabricante del procesador',\n",
       " 'Tipo de procesador',\n",
       " 'Tipo de memoria del ordenador',\n",
       " 'Interfaz del disco duro',\n",
       " 'Voltaje',\n",
       " 'Fuente de alimentación',\n",
       " 'Plataforma de Hardware',\n",
       " 'Sistema operativo',\n",
       " 'ASIN',\n",
       " 'Valoración media de los clientes',\n",
       " 'Clasificación en los más vendidos de Amazon',\n",
       " 'Producto en Amazon.es desde',\n",
       " 'sellers',\n",
       " 'Modelo',\n",
       " 'Nombre del modelo',\n",
       " 'Número de producto',\n",
       " 'Aparatos compatibles',\n",
       " 'Otras características',\n",
       " 'Número de productos',\n",
       " 'Pantalla a color',\n",
       " 'Pilas / baterías incluidas',\n",
       " 'Pilas / baterías necesarias',\n",
       " 'Enfoque automático',\n",
       " 'Incluye mando',\n",
       " 'Programable',\n",
       " 'Restricciones de envío',\n",
       " 'Porcentaje total de reciclaje de contenido',\n",
       " 'Tamaño',\n",
       " 'Color de la tinta',\n",
       " 'Número de pieza del fabricante',\n",
       " 'Pilas:',\n",
       " 'Dimensión de la pantalla',\n",
       " 'Número de procesadores',\n",
       " 'Tipo de conexión inalámbrica',\n",
       " 'Descripción de la batería',\n",
       " 'Contenido de energía de la batería de litio',\n",
       " 'Embalaje de la batería de litio',\n",
       " 'Peso de la batería de litio',\n",
       " 'Número de pilas de metal de litio',\n",
       " 'Dimensiones del paquete',\n",
       " 'Referencia del fabricante',\n",
       " 'Año de fabricación',\n",
       " 'Interfaz del hardware',\n",
       " '\\tResolución del sensor óptico',\n",
       " 'Descripción de la interfaz de red',\n",
       " 'Tipo de conector',\n",
       " 'Tecnología de detector de movimiento',\n",
       " 'Número de puertos USB 2.0',\n",
       " '\\t Software\\t compatible\\t ',\n",
       " 'Velocidad del procesador',\n",
       " 'Interfaz de la tarjeta gráfica',\n",
       " 'Relación de aspecto',\n",
       " 'Velocidad de transferencia de datos',\n",
       " 'Número de puertos',\n",
       " 'Número de puertos USB',\n",
       " 'Entrada de interfaz humana',\n",
       " 'Contiene líquidos',\n",
       " '\\tIncluye batería recargable',\n",
       " 'Resolución de pantalla',\n",
       " 'Formato de entrada de video',\n",
       " 'Interfaz de salida de video',\n",
       " 'Características del cable\\t',\n",
       " 'Género del conector izquierdo',\n",
       " 'Tipo de conector izquierdo',\n",
       " 'Género del conector derecho',\n",
       " 'Tipo de conector derecho',\n",
       " 'Tipo de material',\n",
       " 'Tecnología de pantalla',\n",
       " 'Tipo de pantalla',\n",
       " 'Características de audio',\n",
       " 'Número de modelo',\n",
       " 'Eficiencia energética',\n",
       " 'Consumo anual',\n",
       " 'Dispositivos compatibles',\n",
       " 'Características especiales',\n",
       " 'Máxima resolución',\n",
       " 'Incluye memoria externa',\n",
       " 'Tipo de conectividad',\n",
       " 'Tiempo de carga de la batería (en horas)',\n",
       " 'Duración de la batería media (en horas)',\n",
       " 'Voltaje de la batería de litio',\n",
       " 'Número de pilas de ion de litio',\n",
       " 'Resolución de captura de vídeo',\n",
       " 'Máxima resolución de pantalla',\n",
       " '\\n    Dimensiones del producto',\n",
       " ' Producto en Amazon.es desde',\n",
       " 'Opiniones de los clientes',\n",
       " '\\nClasificación en los más vendidos de Amazon',\n",
       " 'Frecuencia de actualización\\t',\n",
       " 'Capacidad de la memoria RAM',\n",
       " 'Capacidad de la memoria',\n",
       " 'Potencia eléctrica',\n",
       " 'Descripción del altavoz',\n",
       " 'Toma del procesador',\n",
       " 'Tecnología de la memoria',\n",
       " 'Descripción del disco duro',\n",
       " 'Composición de la pila de la batería',\n",
       " 'Descripción de la tarjeta gráfica',\n",
       " 'Capacidad del disco duro',\n",
       " 'Coprocesador gráfico',\n",
       " 'Tipo de memoria gráfica\\n',\n",
       " 'Memoria máxima compatible',\n",
       " 'Número de puertos USB 3.0',\n",
       " 'Número de puertos HDMI',\n",
       " 'Número de puertos ethernet',\n",
       " 'Número de puertos VGA',\n",
       " 'Número de puertos PS-2',\n",
       " 'Tipo de medio\\t',\n",
       " 'Ranuras de memoria disponibles',\n",
       " 'Capacidad de la memoria RAM instalada',\n",
       " 'Tipo de disco óptico',\n",
       " 'Número de modelo del procesador',\n",
       " 'Entrada de video\\t',\n",
       " 'Batería',\n",
       " 'Descripción del teclado\\n',\n",
       " 'Compatible con tecnología Bluetooth',\n",
       " 'Tipo de memoria flash',\n",
       " 'Componentes incluidos',\n",
       " 'Interfaz de comunicación',\n",
       " 'Formato de soporte digital',\n",
       " 'Proveedor de conexión inalámbrica',\n",
       " 'Código de velocidad',\n",
       " 'Alcance máximo',\n",
       " 'Protocolo de enlace de datos',\n",
       " 'Detalles de audio',\n",
       " '\\n    Peso del producto',\n",
       " '\\tCapacidad de la memoria flash instalada',\n",
       " 'Número de puertos de micrófono',\n",
       " 'Marca de la tarjeta gráfica',\n",
       " 'Resolución de la cámara web trasera',\n",
       " 'Resolución de la cámara web frontal',\n",
       " 'Tecnología de pantalla del portátil',\n",
       " 'Resolución del escáner',\n",
       " 'Número de puertos de serie',\n",
       " 'Identificador de producto del fabricante',\n",
       " 'Incluye baterías',\n",
       " 'Necesita baterías',\n",
       " 'Discos adicionales',\n",
       " 'Tamaño de las unidades de bastidores',\n",
       " 'Ciclos de carga de la batería',\n",
       " 'Tiempo de suspensión de la batería (en horas)',\n",
       " 'Capacidad máxima de la memoria RAM',\n",
       " 'Tecnología de la memoria RAM',\n",
       " 'Lector de tarjetas',\n",
       " 'Capacidad de almacenamiento digital',\n",
       " 'Incluye adaptador AC',\n",
       " 'Navegador web incluido',\n",
       " 'Material',\n",
       " 'Número de piezas',\n",
       " 'Sistema de medida',\n",
       " 'Peso',\n",
       " 'Resolución horizontal',\n",
       " 'Potencia',\n",
       " 'Estabilización de imagen',\n",
       " 'Tamaño del folio',\n",
       " 'Volumen',\n",
       " 'Tipo de salida de la impresora',\n",
       " 'Idioma principal',\n",
       " 'Tipo(s) de material']"
      ]
     },
     "execution_count": 34,
     "metadata": {},
     "output_type": "execute_result"
    }
   ],
   "source": [
    "list(dfe.columns)"
   ]
  },
  {
   "cell_type": "code",
   "execution_count": 35,
   "metadata": {},
   "outputs": [],
   "source": [
    "dffinal = dfe[['level_0','Badge','Product','Price','link','Marca','Modelo','Color','Número de productos','Tamaño','Número de pieza del fabricante','ASIN','sellers','Valoración media de los clientes','Clasificación en los más vendidos de Amazon','Número de modelo del producto']]"
   ]
  },
  {
   "cell_type": "code",
   "execution_count": 36,
   "metadata": {},
   "outputs": [],
   "source": [
    "dffinal.to_csv('computers_subcategories_extended.csv', index=False)"
   ]
  },
  {
   "cell_type": "code",
   "execution_count": 37,
   "metadata": {},
   "outputs": [
    {
     "data": {
      "text/plain": [
       "Product    Amazon Fire TV Stick con mando por voz Alexa |...\n",
       "Price                                                88535.1\n",
       "Link       /amazon-fire-tv-stick-con-mando-por-voz-alexa-...\n",
       "link       /amazon-fire-tv-stick-con-mando-por-voz-alexa-...\n",
       "dtype: object"
      ]
     },
     "execution_count": 37,
     "metadata": {},
     "output_type": "execute_result"
    }
   ],
   "source": [
    "df.sum()"
   ]
  },
  {
   "cell_type": "code",
   "execution_count": 38,
   "metadata": {},
   "outputs": [
    {
     "data": {
      "text/plain": [
       "633"
      ]
     },
     "execution_count": 38,
     "metadata": {},
     "output_type": "execute_result"
    }
   ],
   "source": [
    "len(dffinal)"
   ]
  },
  {
   "cell_type": "code",
   "execution_count": 142,
   "metadata": {},
   "outputs": [
    {
     "data": {
      "text/plain": [
       "x    15\n",
       "y    30\n",
       "dtype: int64"
      ]
     },
     "execution_count": 142,
     "metadata": {},
     "output_type": "execute_result"
    }
   ],
   "source": [
    "import pandas as pd\n",
    "df=pd.DataFrame({\"x\":[1,2,3,4,5],\"y\":[2,4,6,8,10]})\n",
    "df.sum(axis=0)"
   ]
  },
  {
   "cell_type": "code",
   "execution_count": 143,
   "metadata": {},
   "outputs": [
    {
     "data": {
      "text/html": [
       "<div>\n",
       "<style scoped>\n",
       "    .dataframe tbody tr th:only-of-type {\n",
       "        vertical-align: middle;\n",
       "    }\n",
       "\n",
       "    .dataframe tbody tr th {\n",
       "        vertical-align: top;\n",
       "    }\n",
       "\n",
       "    .dataframe thead th {\n",
       "        text-align: right;\n",
       "    }\n",
       "</style>\n",
       "<table border=\"1\" class=\"dataframe\">\n",
       "  <thead>\n",
       "    <tr style=\"text-align: right;\">\n",
       "      <th></th>\n",
       "      <th>x</th>\n",
       "      <th>y</th>\n",
       "    </tr>\n",
       "  </thead>\n",
       "  <tbody>\n",
       "    <tr>\n",
       "      <th>0</th>\n",
       "      <td>1</td>\n",
       "      <td>2</td>\n",
       "    </tr>\n",
       "    <tr>\n",
       "      <th>1</th>\n",
       "      <td>2</td>\n",
       "      <td>4</td>\n",
       "    </tr>\n",
       "    <tr>\n",
       "      <th>2</th>\n",
       "      <td>3</td>\n",
       "      <td>6</td>\n",
       "    </tr>\n",
       "    <tr>\n",
       "      <th>3</th>\n",
       "      <td>4</td>\n",
       "      <td>8</td>\n",
       "    </tr>\n",
       "    <tr>\n",
       "      <th>4</th>\n",
       "      <td>5</td>\n",
       "      <td>10</td>\n",
       "    </tr>\n",
       "  </tbody>\n",
       "</table>\n",
       "</div>"
      ],
      "text/plain": [
       "   x   y\n",
       "0  1   2\n",
       "1  2   4\n",
       "2  3   6\n",
       "3  4   8\n",
       "4  5  10"
      ]
     },
     "execution_count": 143,
     "metadata": {},
     "output_type": "execute_result"
    }
   ],
   "source": [
    "df"
   ]
  },
  {
   "cell_type": "code",
   "execution_count": 146,
   "metadata": {},
   "outputs": [
    {
     "data": {
      "text/plain": [
       "x    15\n",
       "y    30\n",
       "dtype: int64"
      ]
     },
     "execution_count": 146,
     "metadata": {},
     "output_type": "execute_result"
    }
   ],
   "source": [
    "df.sum(axis=0)"
   ]
  },
  {
   "cell_type": "code",
   "execution_count": null,
   "metadata": {},
   "outputs": [],
   "source": []
  }
 ],
 "metadata": {
  "kernelspec": {
   "display_name": "Python 3",
   "language": "python",
   "name": "python3"
  },
  "language_info": {
   "codemirror_mode": {
    "name": "ipython",
    "version": 3
   },
   "file_extension": ".py",
   "mimetype": "text/x-python",
   "name": "python",
   "nbconvert_exporter": "python",
   "pygments_lexer": "ipython3",
   "version": "3.6.9"
  }
 },
 "nbformat": 4,
 "nbformat_minor": 4
}
