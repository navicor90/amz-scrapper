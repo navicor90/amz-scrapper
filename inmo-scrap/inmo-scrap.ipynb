{
 "cells": [
  {
   "cell_type": "markdown",
   "metadata": {},
   "source": [
    "\n",
    "## About this project\n",
    "\n",
    "We want a csv with data from different real-state agencies, additionally we need to keep a good architechture to mantain this project over time, because, maybe we will need create a job looking this data automatically.\n",
    "\n",
    "Technologies used:\n",
    "- Selenium\n",
    "- BeautifulSoup\n",
    "- Pandas"
   ]
  },
  {
   "cell_type": "code",
   "execution_count": 1,
   "metadata": {},
   "outputs": [],
   "source": [
    "%load_ext autoreload\n",
    "%autoreload 2"
   ]
  },
  {
   "cell_type": "code",
   "execution_count": 2,
   "metadata": {},
   "outputs": [],
   "source": [
    "from selenium import webdriver\n",
    "import pandas as pd\n",
    "import time\n",
    "import random\n",
    "import sys\n",
    "import os\n",
    "from datetime import datetime\n",
    "sys.path.append(os.path.abspath('../'))\n",
    "from utils import (soup_content_from_url,\n",
    "                    elements_from_soup_bestsellers_web, \n",
    "                    subcategories_from_bestsellers_web,\n",
    "                    detail_dict_from_product_page,\n",
    "                    load_obj,\n",
    "                    save_soup)\n",
    "from property_utils import InmoclickSearchPage, PropertyType, Property"
   ]
  },
  {
   "cell_type": "code",
   "execution_count": 3,
   "metadata": {},
   "outputs": [],
   "source": [
    "driver = webdriver.Firefox()"
   ]
  },
  {
   "cell_type": "code",
   "execution_count": 4,
   "metadata": {},
   "outputs": [
    {
     "data": {
      "text/plain": [
       "'https://www.inmoclick.com.ar/inmuebles/venta/lotes-y-terrenos/mendoza?favoritos=0&limit=48&prevEstadoMap=&provincias=21&precio%5Bmin%5D=&precio%5Bmax%5D=&moneda=1&sup_cubierta%5Bmin%5D=&sup_cubierta%5Bmax%5D=&sup_total%5Bmin%5D=&sup_total%5Bmax%5D=&page=1'"
      ]
     },
     "execution_count": 4,
     "metadata": {},
     "output_type": "execute_result"
    }
   ],
   "source": [
    "base_url = 'https://www.inmoclick.com.ar'\n",
    "houses_list = \"/inmuebles/venta/lotes-y-terrenos/mendoza\"\n",
    "#houses_list = \"/inmuebles/venta/casas/mendoza\"\n",
    "params = \"?favoritos=0&limit=48&prevEstadoMap=&provincias=21&precio%5Bmin%5D=&precio%5Bmax%5D=&moneda=1&sup_cubierta%5Bmin%5D=&sup_cubierta%5Bmax%5D=&sup_total%5Bmin%5D=&sup_total%5Bmax%5D=&page=\"\n",
    "url = base_url+houses_list+(params+str(1))\n",
    "url"
   ]
  },
  {
   "cell_type": "markdown",
   "metadata": {},
   "source": [
    "### Getting all pages related to our search\n",
    "We want to get all of HTML pages in memory to preprocess them and use the data asociated. In this first jupyter cell we just get the first page in our search, and with that we will get the max page number to iterate looking for all data in next cells."
   ]
  },
  {
   "cell_type": "code",
   "execution_count": 15,
   "metadata": {},
   "outputs": [
    {
     "data": {
      "text/plain": [
       "48"
      ]
     },
     "execution_count": 15,
     "metadata": {},
     "output_type": "execute_result"
    }
   ],
   "source": [
    "inmoclick_search_pages = []\n",
    "soup = soup_content_from_url(driver, url)\n",
    "isp = InmoclickSearchPage(soup, PropertyType.LAND)\n",
    "inmoclick_search_pages.append(isp)\n",
    "len(isp.search_items())"
   ]
  },
  {
   "cell_type": "code",
   "execution_count": null,
   "metadata": {},
   "outputs": [],
   "source": [
    "from urllib.parse import urlparse\n",
    "import random\n",
    "\n",
    "pages_range = range(2,isp.max_page_number())\n",
    "for p in pages_range:\n",
    "    url = base_url+houses_list+(params + str(p))\n",
    "    print(url)\n",
    "    \n",
    "    soup = soup_content_from_url(driver, url)\n",
    "    isp = InmoclickSearchPage(soup, PropertyType.LAND)\n",
    "    inmoclick_search_pages.append(isp)\n",
    "    \n",
    "    time.sleep(random.randint(1,5))\n",
    "\n",
    "print(isp.max_page_number())\n",
    "print(len(inmoclick_search_pages))"
   ]
  },
  {
   "cell_type": "markdown",
   "metadata": {},
   "source": [
    "### Casting inmoclick objects to our own object \"Property\"\n",
    "We want to create our object because if we add a new agency, different to inmoclick, we will add some new code and we want to stay working inmoclick functions. Additionally we want to treat different properties from different agencies in just one way."
   ]
  },
  {
   "cell_type": "code",
   "execution_count": 107,
   "metadata": {},
   "outputs": [
    {
     "data": {
      "text/plain": [
       "['inmueble-85193-2',\n",
       " 'Las Heras',\n",
       " 'Las Heras',\n",
       " 'Mendoza',\n",
       " 'US$',\n",
       " 23000.0,\n",
       " 'US$ 23.000',\n",
       " '/19352-carballo-inmobiliaria/inmuebles/784/ficha/lote-en-venta-en-regalado-olguin-s-n?btid=2607340/85193-helga-petek/inmuebles/2/ficha/lote-en-venta-en-las-heras',\n",
       " 'Terro en calle Perón de Las Heras Mendoza se escucha oferta contado .escucho oferta en pesos a dólar blue.',\n",
       " <PropertyType.LAND: 'land'>,\n",
       " None,\n",
       " '/19352-carballo-inmobiliaria/inmuebles/784/ficha/lote-en-venta-en-regalado-olguin-s-n?btid=2607340',\n",
       " 1,\n",
       " datetime.datetime(2020, 5, 29, 21, 10, 3, 695962),\n",
       " '365',\n",
       " None,\n",
       " None,\n",
       " None,\n",
       " None,\n",
       " True,\n",
       " True,\n",
       " True]"
      ]
     },
     "execution_count": 107,
     "metadata": {},
     "output_type": "execute_result"
    }
   ],
   "source": [
    "recent_id = 0\n",
    "properties = []\n",
    "data = []\n",
    "for isp in inmoclick_search_pages:\n",
    "    for item in isp.search_items():\n",
    "        #isi = InmoclickSearchItem(html_article, PropertyType.LAND)\n",
    "        recent_id = recent_id + 1\n",
    "        property_dict = item.to_dict()\n",
    "        property_dict['url'] = base_url + property_dict['url']\n",
    "        property_dict['recent_id'] = recent_id\n",
    "        property_dict['source_web'] = base_url\n",
    "        p = Property(property_dict)\n",
    "        properties.append(p)\n",
    "        data.append(p.to_list())\n",
    "print(data[0])"
   ]
  },
  {
   "cell_type": "markdown",
   "metadata": {},
   "source": [
    "### Casting our objects to DataFrame\n",
    "To make an analysis we need our data in a DataFrame object"
   ]
  },
  {
   "cell_type": "code",
   "execution_count": 104,
   "metadata": {},
   "outputs": [
    {
     "data": {
      "text/html": [
       "<div>\n",
       "<style scoped>\n",
       "    .dataframe tbody tr th:only-of-type {\n",
       "        vertical-align: middle;\n",
       "    }\n",
       "\n",
       "    .dataframe tbody tr th {\n",
       "        vertical-align: top;\n",
       "    }\n",
       "\n",
       "    .dataframe thead th {\n",
       "        text-align: right;\n",
       "    }\n",
       "</style>\n",
       "<table border=\"1\" class=\"dataframe\">\n",
       "  <thead>\n",
       "    <tr style=\"text-align: right;\">\n",
       "      <th></th>\n",
       "      <th>ref_id</th>\n",
       "      <th>neighborhood</th>\n",
       "      <th>district</th>\n",
       "      <th>province</th>\n",
       "      <th>currency</th>\n",
       "      <th>amount</th>\n",
       "      <th>price</th>\n",
       "      <th>url</th>\n",
       "      <th>description</th>\n",
       "      <th>property_type</th>\n",
       "      <th>...</th>\n",
       "      <th>recent_id</th>\n",
       "      <th>scrapped_date</th>\n",
       "      <th>totalArea</th>\n",
       "      <th>floorArea</th>\n",
       "      <th>bedrooms</th>\n",
       "      <th>bathrooms</th>\n",
       "      <th>garage</th>\n",
       "      <th>has_gas</th>\n",
       "      <th>has_water</th>\n",
       "      <th>has_electricity</th>\n",
       "    </tr>\n",
       "  </thead>\n",
       "  <tbody>\n",
       "    <tr>\n",
       "      <th>0</th>\n",
       "      <td>inmueble-85193-2</td>\n",
       "      <td>Las Heras</td>\n",
       "      <td>Las Heras</td>\n",
       "      <td>Mendoza</td>\n",
       "      <td>US$</td>\n",
       "      <td>23000.0</td>\n",
       "      <td>US$ 23.000</td>\n",
       "      <td>/19352-carballo-inmobiliaria/inmuebles/784/fic...</td>\n",
       "      <td>Terro en calle Perón de Las Heras Mendoza se e...</td>\n",
       "      <td>PropertyType.LAND</td>\n",
       "      <td>...</td>\n",
       "      <td>1</td>\n",
       "      <td>2020-05-29 19:06:13.881371</td>\n",
       "      <td>365</td>\n",
       "      <td>None</td>\n",
       "      <td>None</td>\n",
       "      <td>None</td>\n",
       "      <td>None</td>\n",
       "      <td>True</td>\n",
       "      <td>True</td>\n",
       "      <td>True</td>\n",
       "    </tr>\n",
       "    <tr>\n",
       "      <th>1</th>\n",
       "      <td>inmueble-71779-71</td>\n",
       "      <td>Primitivo de la Reta y Alsina</td>\n",
       "      <td>Godoy Cruz</td>\n",
       "      <td>Mendoza</td>\n",
       "      <td>US$</td>\n",
       "      <td>560000.0</td>\n",
       "      <td>US$ 560.000</td>\n",
       "      <td>/19352-carballo-inmobiliaria/inmuebles/784/fic...</td>\n",
       "      <td>GREENWOOD VENDE EN GODOY CRUZ ESPECTACULAR TER...</td>\n",
       "      <td>PropertyType.LAND</td>\n",
       "      <td>...</td>\n",
       "      <td>2</td>\n",
       "      <td>2020-05-29 19:06:13.884346</td>\n",
       "      <td>2800</td>\n",
       "      <td>None</td>\n",
       "      <td>None</td>\n",
       "      <td>None</td>\n",
       "      <td>None</td>\n",
       "      <td>True</td>\n",
       "      <td>True</td>\n",
       "      <td>True</td>\n",
       "    </tr>\n",
       "    <tr>\n",
       "      <th>2</th>\n",
       "      <td>inmueble-71779-65</td>\n",
       "      <td>Pinares de Furlotti</td>\n",
       "      <td>Maipu</td>\n",
       "      <td>Mendoza</td>\n",
       "      <td>US$</td>\n",
       "      <td>20000.0</td>\n",
       "      <td>US$ 20.000</td>\n",
       "      <td>/19352-carballo-inmobiliaria/inmuebles/784/fic...</td>\n",
       "      <td>GREENWOOD VENDE OPORTUNIDAD INCREIBLE\\n\\nPINAR...</td>\n",
       "      <td>PropertyType.LAND</td>\n",
       "      <td>...</td>\n",
       "      <td>3</td>\n",
       "      <td>2020-05-29 19:06:13.886947</td>\n",
       "      <td>350</td>\n",
       "      <td>None</td>\n",
       "      <td>None</td>\n",
       "      <td>None</td>\n",
       "      <td>None</td>\n",
       "      <td>True</td>\n",
       "      <td>True</td>\n",
       "      <td>True</td>\n",
       "    </tr>\n",
       "  </tbody>\n",
       "</table>\n",
       "<p>3 rows × 22 columns</p>\n",
       "</div>"
      ],
      "text/plain": [
       "              ref_id                   neighborhood    district province  \\\n",
       "0   inmueble-85193-2                      Las Heras   Las Heras  Mendoza   \n",
       "1  inmueble-71779-71  Primitivo de la Reta y Alsina  Godoy Cruz  Mendoza   \n",
       "2  inmueble-71779-65            Pinares de Furlotti       Maipu  Mendoza   \n",
       "\n",
       "  currency    amount        price  \\\n",
       "0      US$   23000.0   US$ 23.000   \n",
       "1      US$  560000.0  US$ 560.000   \n",
       "2      US$   20000.0   US$ 20.000   \n",
       "\n",
       "                                                 url  \\\n",
       "0  /19352-carballo-inmobiliaria/inmuebles/784/fic...   \n",
       "1  /19352-carballo-inmobiliaria/inmuebles/784/fic...   \n",
       "2  /19352-carballo-inmobiliaria/inmuebles/784/fic...   \n",
       "\n",
       "                                         description      property_type  ...  \\\n",
       "0  Terro en calle Perón de Las Heras Mendoza se e...  PropertyType.LAND  ...   \n",
       "1  GREENWOOD VENDE EN GODOY CRUZ ESPECTACULAR TER...  PropertyType.LAND  ...   \n",
       "2  GREENWOOD VENDE OPORTUNIDAD INCREIBLE\\n\\nPINAR...  PropertyType.LAND  ...   \n",
       "\n",
       "  recent_id              scrapped_date  totalArea floorArea bedrooms  \\\n",
       "0         1 2020-05-29 19:06:13.881371        365      None     None   \n",
       "1         2 2020-05-29 19:06:13.884346       2800      None     None   \n",
       "2         3 2020-05-29 19:06:13.886947        350      None     None   \n",
       "\n",
       "  bathrooms garage has_gas has_water  has_electricity  \n",
       "0      None   None    True      True             True  \n",
       "1      None   None    True      True             True  \n",
       "2      None   None    True      True             True  \n",
       "\n",
       "[3 rows x 22 columns]"
      ]
     },
     "execution_count": 104,
     "metadata": {},
     "output_type": "execute_result"
    }
   ],
   "source": [
    "df = pd.DataFrame(data,columns=Property.attributes_order())\n",
    "df.head(3)"
   ]
  },
  {
   "cell_type": "code",
   "execution_count": 105,
   "metadata": {},
   "outputs": [],
   "source": [
    "df.to_csv('out-venta-lotes-y-terrenos.csv',index=False)"
   ]
  },
  {
   "cell_type": "code",
   "execution_count": 66,
   "metadata": {},
   "outputs": [
    {
     "data": {
      "text/plain": [
       "currency\n",
       "$       371\n",
       "US$    1354\n",
       "Name: ref_id, dtype: int64"
      ]
     },
     "execution_count": 66,
     "metadata": {},
     "output_type": "execute_result"
    }
   ],
   "source": [
    "df.groupby('currency').count()['ref_id']"
   ]
  },
  {
   "cell_type": "code",
   "execution_count": 68,
   "metadata": {},
   "outputs": [
    {
     "data": {
      "text/plain": [
       "1362"
      ]
     },
     "execution_count": 68,
     "metadata": {},
     "output_type": "execute_result"
    }
   ],
   "source": [
    "df.has_gas.sum()"
   ]
  },
  {
   "cell_type": "code",
   "execution_count": 84,
   "metadata": {},
   "outputs": [
    {
     "data": {
      "text/plain": [
       "29        10.000\n",
       "68        16.500\n",
       "109      1857.26\n",
       "230      464.51 \n",
       "232      508.31 \n",
       "          ...   \n",
       "2029    19769.27\n",
       "2037     1105.15\n",
       "2063      298.39\n",
       "2075      508.94\n",
       "2084      628.16\n",
       "Name: totalArea, Length: 111, dtype: object"
      ]
     },
     "execution_count": 84,
     "metadata": {},
     "output_type": "execute_result"
    }
   ],
   "source": [
    "df.totalArea[~df.totalArea.str.isnumeric()]"
   ]
  },
  {
   "cell_type": "code",
   "execution_count": 87,
   "metadata": {},
   "outputs": [],
   "source": [
    "df.totalArea = pd.to_numeric(df.totalArea, errors='coerce')"
   ]
  },
  {
   "cell_type": "code",
   "execution_count": null,
   "metadata": {},
   "outputs": [],
   "source": []
  }
 ],
 "metadata": {
  "kernelspec": {
   "display_name": "Python 3",
   "language": "python",
   "name": "python3"
  },
  "language_info": {
   "codemirror_mode": {
    "name": "ipython",
    "version": 3
   },
   "file_extension": ".py",
   "mimetype": "text/x-python",
   "name": "python",
   "nbconvert_exporter": "python",
   "pygments_lexer": "ipython3",
   "version": "3.6.9"
  }
 },
 "nbformat": 4,
 "nbformat_minor": 4
}
