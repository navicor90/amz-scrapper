{
 "cells": [
  {
   "cell_type": "code",
   "execution_count": 196,
   "metadata": {},
   "outputs": [],
   "source": [
    "from selenium import webdriver\n",
    "import pandas as pd\n",
    "import time\n",
    "from utils import (soup_content_from_url,\n",
    "                    elements_from_soup_bestsellers_web, \n",
    "                    subcategories_from_bestsellers_web,\n",
    "                    detail_dict_from_product_page,\n",
    "                    save_obj)"
   ]
  },
  {
   "cell_type": "code",
   "execution_count": 69,
   "metadata": {},
   "outputs": [],
   "source": [
    "driver = webdriver.Firefox()\n",
    "soups = []"
   ]
  },
  {
   "cell_type": "markdown",
   "metadata": {},
   "source": [
    "### Set Best Sellers Root URL:"
   ]
  },
  {
   "cell_type": "code",
   "execution_count": 134,
   "metadata": {},
   "outputs": [],
   "source": [
    "base_url = 'https://www.amazon.es'\n",
    "bestsellers_webs=[\n",
    "    #{'name':'beauty','url':'https://www.amazon.es/gp/bestsellers/beauty/ref=zg_bs_pg_%i?ie=UTF8&pg=%i'},\n",
    "    {'name':'office','url': base_url + '/gp/bestsellers/office/ref=zg_bs_pg_%i?ie=UTF8&pg=%i'},\n",
    "]"
   ]
  },
  {
   "cell_type": "markdown",
   "metadata": {},
   "source": [
    "### Get html content from best sellers urls"
   ]
  },
  {
   "cell_type": "code",
   "execution_count": 79,
   "metadata": {},
   "outputs": [
    {
     "name": "stdout",
     "output_type": "stream",
     "text": [
      "office\n",
      "https://www.amazon.es/gp/bestsellers/office/ref=zg_bs_pg_1?ie=UTF8&pg=1\n",
      "https://www.amazon.es/gp/bestsellers/office/ref=zg_bs_pg_2?ie=UTF8&pg=2\n"
     ]
    }
   ],
   "source": [
    "def soup_from_bestsellers_url(url,page):\n",
    "    url = w['url']%(page,page)\n",
    "    print(url)\n",
    "    return soup_content_from_url(url), url\n",
    "     \n",
    "for w in bestsellers_webs:\n",
    "    print(w['name'])\n",
    "    w['soups'] = []\n",
    "    \n",
    "    soup, url = soup_from_bestsellers_url(w['url'],page=1)\n",
    "    w['soups'].append(soup)\n",
    "    time.sleep(5)\n",
    "    \n",
    "    soup_from_bestsellers_url(w['url'],page=2)\n",
    "    w['soups'].append(soup)\n",
    "    time.sleep(5)"
   ]
  },
  {
   "cell_type": "markdown",
   "metadata": {},
   "source": [
    "### Get first level subcategories in categories tree"
   ]
  },
  {
   "cell_type": "code",
   "execution_count": 86,
   "metadata": {},
   "outputs": [
    {
     "data": {
      "text/plain": [
       "[{'name': 'Cualquier departamento',\n",
       "  'url': 'https://www.amazon.es/gp/bestsellers/ref=zg_bs_unv_office_0_office_1'},\n",
       " {'name': 'Bolígrafos, lápices y útiles de escritura',\n",
       "  'url': 'https://www.amazon.es/gp/bestsellers/office/4352788031/ref=zg_bs_nav_office_1_office'},\n",
       " {'name': 'Calendarios, agendas y organizadores personales',\n",
       "  'url': 'https://www.amazon.es/gp/bestsellers/office/4352789031/ref=zg_bs_nav_office_1_office'},\n",
       " {'name': 'Electrónica de oficina',\n",
       "  'url': 'https://www.amazon.es/gp/bestsellers/office/4352790031/ref=zg_bs_nav_office_1_office'},\n",
       " {'name': 'Material de oficina',\n",
       "  'url': 'https://www.amazon.es/gp/bestsellers/office/4352791031/ref=zg_bs_nav_office_1_office'},\n",
       " {'name': 'Material escolar y educativo',\n",
       "  'url': 'https://www.amazon.es/gp/bestsellers/office/4352792031/ref=zg_bs_nav_office_1_office'},\n",
       " {'name': 'Muebles y lámparas',\n",
       "  'url': 'https://www.amazon.es/gp/bestsellers/office/4352793031/ref=zg_bs_nav_office_1_office'},\n",
       " {'name': 'Productos de papel para oficina',\n",
       "  'url': 'https://www.amazon.es/gp/bestsellers/office/4352794031/ref=zg_bs_nav_office_1_office'},\n",
       " {'name': 'Sobres y suministros para el correo',\n",
       "  'url': 'https://www.amazon.es/gp/bestsellers/office/4352795031/ref=zg_bs_nav_office_1_office'}]"
      ]
     },
     "execution_count": 86,
     "metadata": {},
     "output_type": "execute_result"
    }
   ],
   "source": [
    "subcategories = subcategories_from_bestsellers_web(bestsellers_webs[0]['soups'][0])\n",
    "subcategories"
   ]
  },
  {
   "cell_type": "code",
   "execution_count": 87,
   "metadata": {},
   "outputs": [
    {
     "data": {
      "text/plain": [
       "[{'name': 'Bolígrafos, lápices y útiles de escritura',\n",
       "  'url': 'https://www.amazon.es/gp/bestsellers/office/4352788031/ref=zg_bs_nav_office_1_office'},\n",
       " {'name': 'Calendarios, agendas y organizadores personales',\n",
       "  'url': 'https://www.amazon.es/gp/bestsellers/office/4352789031/ref=zg_bs_nav_office_1_office'},\n",
       " {'name': 'Electrónica de oficina',\n",
       "  'url': 'https://www.amazon.es/gp/bestsellers/office/4352790031/ref=zg_bs_nav_office_1_office'},\n",
       " {'name': 'Material de oficina',\n",
       "  'url': 'https://www.amazon.es/gp/bestsellers/office/4352791031/ref=zg_bs_nav_office_1_office'},\n",
       " {'name': 'Material escolar y educativo',\n",
       "  'url': 'https://www.amazon.es/gp/bestsellers/office/4352792031/ref=zg_bs_nav_office_1_office'},\n",
       " {'name': 'Muebles y lámparas',\n",
       "  'url': 'https://www.amazon.es/gp/bestsellers/office/4352793031/ref=zg_bs_nav_office_1_office'},\n",
       " {'name': 'Productos de papel para oficina',\n",
       "  'url': 'https://www.amazon.es/gp/bestsellers/office/4352794031/ref=zg_bs_nav_office_1_office'},\n",
       " {'name': 'Sobres y suministros para el correo',\n",
       "  'url': 'https://www.amazon.es/gp/bestsellers/office/4352795031/ref=zg_bs_nav_office_1_office'}]"
      ]
     },
     "execution_count": 87,
     "metadata": {},
     "output_type": "execute_result"
    }
   ],
   "source": [
    "## We delete the first element, its an autoreference url\n",
    "subcategories.pop(0)\n",
    "subcategories"
   ]
  },
  {
   "cell_type": "markdown",
   "metadata": {},
   "source": [
    "### We get the html content from subcategories urls"
   ]
  },
  {
   "cell_type": "code",
   "execution_count": 88,
   "metadata": {
    "scrolled": true
   },
   "outputs": [
    {
     "name": "stdout",
     "output_type": "stream",
     "text": [
      "Bolígrafos, lápices y útiles de escritura\n",
      "https://www.amazon.es/gp/bestsellers/office/4352788031/ref=zg_bs_nav_office_1_office\n",
      "Calendarios, agendas y organizadores personales\n",
      "https://www.amazon.es/gp/bestsellers/office/4352789031/ref=zg_bs_nav_office_1_office\n",
      "Electrónica de oficina\n",
      "https://www.amazon.es/gp/bestsellers/office/4352790031/ref=zg_bs_nav_office_1_office\n",
      "Material de oficina\n",
      "https://www.amazon.es/gp/bestsellers/office/4352791031/ref=zg_bs_nav_office_1_office\n",
      "Material escolar y educativo\n",
      "https://www.amazon.es/gp/bestsellers/office/4352792031/ref=zg_bs_nav_office_1_office\n",
      "Muebles y lámparas\n",
      "https://www.amazon.es/gp/bestsellers/office/4352793031/ref=zg_bs_nav_office_1_office\n",
      "Productos de papel para oficina\n",
      "https://www.amazon.es/gp/bestsellers/office/4352794031/ref=zg_bs_nav_office_1_office\n",
      "Sobres y suministros para el correo\n",
      "https://www.amazon.es/gp/bestsellers/office/4352795031/ref=zg_bs_nav_office_1_office\n"
     ]
    }
   ],
   "source": [
    "for w in subcategories:\n",
    "    print(w['name'])\n",
    "    w['soups'] = []\n",
    "    w['soups'].append(soup_content_from_url(w['url']))\n",
    "    print(w['url'])\n",
    "    time.sleep(5)"
   ]
  },
  {
   "cell_type": "markdown",
   "metadata": {},
   "source": [
    "### Extracting data from html content\n",
    "We need information about the products in that category like how much is sold a product(badge), the product name, the price and the url."
   ]
  },
  {
   "cell_type": "code",
   "execution_count": 89,
   "metadata": {},
   "outputs": [],
   "source": [
    "elements_df = []\n",
    "elements_keys = []\n",
    "for s in subcategories:\n",
    "    elements_df.append(elements_from_soup_bestsellers_web(s['soups'][0]))\n",
    "    elements_keys.append(s['name'])\n",
    "df = pd.concat(elements_df, keys=elements_keys)"
   ]
  },
  {
   "cell_type": "code",
   "execution_count": 90,
   "metadata": {},
   "outputs": [
    {
     "data": {
      "text/html": [
       "<div>\n",
       "<style scoped>\n",
       "    .dataframe tbody tr th:only-of-type {\n",
       "        vertical-align: middle;\n",
       "    }\n",
       "\n",
       "    .dataframe tbody tr th {\n",
       "        vertical-align: top;\n",
       "    }\n",
       "\n",
       "    .dataframe thead th {\n",
       "        text-align: right;\n",
       "    }\n",
       "</style>\n",
       "<table border=\"1\" class=\"dataframe\">\n",
       "  <thead>\n",
       "    <tr style=\"text-align: right;\">\n",
       "      <th></th>\n",
       "      <th></th>\n",
       "      <th>Badge</th>\n",
       "      <th>Product</th>\n",
       "      <th>Price</th>\n",
       "      <th>Link</th>\n",
       "    </tr>\n",
       "  </thead>\n",
       "  <tbody>\n",
       "    <tr>\n",
       "      <th rowspan=\"5\" valign=\"top\">Bolígrafos, lápices y útiles de escritura</th>\n",
       "      <th>0</th>\n",
       "      <td>#1</td>\n",
       "      <td>Alpino AR001002 - Pack de 12 rotuladores, colo...</td>\n",
       "      <td>1,50 €</td>\n",
       "      <td>/Alpino-AR001002-rotuladores-colores-surtidos/...</td>\n",
       "    </tr>\n",
       "    <tr>\n",
       "      <th>1</th>\n",
       "      <td>#2</td>\n",
       "      <td>Milan BMM9215 - Pack de 4 gomas de borrar</td>\n",
       "      <td>1,19 €</td>\n",
       "      <td>/Milan-BMM9215-Pack-gomas-borrar/dp/B006T8O2PG...</td>\n",
       "    </tr>\n",
       "    <tr>\n",
       "      <th>2</th>\n",
       "      <td>#3</td>\n",
       "      <td>STABILO BOSS Original PASTEL - Marcador - Estu...</td>\n",
       "      <td>4,26 €</td>\n",
       "      <td>/STABILO-BOSS-Original-PASTEL-Marcador/dp/B01L...</td>\n",
       "    </tr>\n",
       "    <tr>\n",
       "      <th>3</th>\n",
       "      <td>#4</td>\n",
       "      <td>BIC Velleda 1741 Marcadores de Pizarra punta m...</td>\n",
       "      <td>2,74 €</td>\n",
       "      <td>/BIC-Velleda-Paquete-marcadores-multicolor/dp/...</td>\n",
       "    </tr>\n",
       "    <tr>\n",
       "      <th>4</th>\n",
       "      <td>#5</td>\n",
       "      <td>Ceras Alpino PLASTIALPINO Estuche de 24 Surtido</td>\n",
       "      <td>3,90 €</td>\n",
       "      <td>/Alpino-PA000024-Estuche-24-ceras/dp/B00W40X0T...</td>\n",
       "    </tr>\n",
       "    <tr>\n",
       "      <th>...</th>\n",
       "      <th>...</th>\n",
       "      <td>...</td>\n",
       "      <td>...</td>\n",
       "      <td>...</td>\n",
       "      <td>...</td>\n",
       "    </tr>\n",
       "    <tr>\n",
       "      <th rowspan=\"5\" valign=\"top\">Sobres y suministros para el correo</th>\n",
       "      <th>43</th>\n",
       "      <td>#46</td>\n",
       "      <td>Sumicel - Rollo de plástico de burbujas de 50 ...</td>\n",
       "      <td>13,90 €</td>\n",
       "      <td>/Sumicel-pl%C3%A1stico-burbujas-metros-longitu...</td>\n",
       "    </tr>\n",
       "    <tr>\n",
       "      <th>44</th>\n",
       "      <td>#47</td>\n",
       "      <td>SAM 18 - Bolsa de burbujas, 10 Unidades</td>\n",
       "      <td>6,50 €</td>\n",
       "      <td>/SAM-18-Bolsa-burbujas-unidades/dp/B00SHLEA8W/...</td>\n",
       "    </tr>\n",
       "    <tr>\n",
       "      <th>45</th>\n",
       "      <td>#48</td>\n",
       "      <td>Premium Office DL - Paquete de sobres con cier...</td>\n",
       "      <td>6,20 €</td>\n",
       "      <td>/Premium-Office-DL-autoadhesivo-unidades/dp/B0...</td>\n",
       "    </tr>\n",
       "    <tr>\n",
       "      <th>46</th>\n",
       "      <td>#49</td>\n",
       "      <td>just-stationery 4 m x 300 mm burbuja</td>\n",
       "      <td>7,28 €</td>\n",
       "      <td>/just-stationery-4-m-x-300-mm-burbuja/dp/B0052...</td>\n",
       "    </tr>\n",
       "    <tr>\n",
       "      <th>47</th>\n",
       "      <td>#50</td>\n",
       "      <td>Pack 20 Cajas Carton Mudanza y Almacenaje Gran...</td>\n",
       "      <td>27,95 €</td>\n",
       "      <td>/Almacenaje-440x300x250mm-Resistentes-Adhesiva...</td>\n",
       "    </tr>\n",
       "  </tbody>\n",
       "</table>\n",
       "<p>394 rows × 4 columns</p>\n",
       "</div>"
      ],
      "text/plain": [
       "                                             Badge  \\\n",
       "Bolígrafos, lápices y útiles de escritura 0     #1   \n",
       "                                          1     #2   \n",
       "                                          2     #3   \n",
       "                                          3     #4   \n",
       "                                          4     #5   \n",
       "...                                            ...   \n",
       "Sobres y suministros para el correo       43   #46   \n",
       "                                          44   #47   \n",
       "                                          45   #48   \n",
       "                                          46   #49   \n",
       "                                          47   #50   \n",
       "\n",
       "                                                                                        Product  \\\n",
       "Bolígrafos, lápices y útiles de escritura 0   Alpino AR001002 - Pack de 12 rotuladores, colo...   \n",
       "                                          1           Milan BMM9215 - Pack de 4 gomas de borrar   \n",
       "                                          2   STABILO BOSS Original PASTEL - Marcador - Estu...   \n",
       "                                          3   BIC Velleda 1741 Marcadores de Pizarra punta m...   \n",
       "                                          4     Ceras Alpino PLASTIALPINO Estuche de 24 Surtido   \n",
       "...                                                                                         ...   \n",
       "Sobres y suministros para el correo       43  Sumicel - Rollo de plástico de burbujas de 50 ...   \n",
       "                                          44            SAM 18 - Bolsa de burbujas, 10 Unidades   \n",
       "                                          45  Premium Office DL - Paquete de sobres con cier...   \n",
       "                                          46               just-stationery 4 m x 300 mm burbuja   \n",
       "                                          47  Pack 20 Cajas Carton Mudanza y Almacenaje Gran...   \n",
       "\n",
       "                                                Price  \\\n",
       "Bolígrafos, lápices y útiles de escritura 0    1,50 €   \n",
       "                                          1    1,19 €   \n",
       "                                          2    4,26 €   \n",
       "                                          3    2,74 €   \n",
       "                                          4    3,90 €   \n",
       "...                                               ...   \n",
       "Sobres y suministros para el correo       43  13,90 €   \n",
       "                                          44   6,50 €   \n",
       "                                          45   6,20 €   \n",
       "                                          46   7,28 €   \n",
       "                                          47  27,95 €   \n",
       "\n",
       "                                                                                           Link  \n",
       "Bolígrafos, lápices y útiles de escritura 0   /Alpino-AR001002-rotuladores-colores-surtidos/...  \n",
       "                                          1   /Milan-BMM9215-Pack-gomas-borrar/dp/B006T8O2PG...  \n",
       "                                          2   /STABILO-BOSS-Original-PASTEL-Marcador/dp/B01L...  \n",
       "                                          3   /BIC-Velleda-Paquete-marcadores-multicolor/dp/...  \n",
       "                                          4   /Alpino-PA000024-Estuche-24-ceras/dp/B00W40X0T...  \n",
       "...                                                                                         ...  \n",
       "Sobres y suministros para el correo       43  /Sumicel-pl%C3%A1stico-burbujas-metros-longitu...  \n",
       "                                          44  /SAM-18-Bolsa-burbujas-unidades/dp/B00SHLEA8W/...  \n",
       "                                          45  /Premium-Office-DL-autoadhesivo-unidades/dp/B0...  \n",
       "                                          46  /just-stationery-4-m-x-300-mm-burbuja/dp/B0052...  \n",
       "                                          47  /Almacenaje-440x300x250mm-Resistentes-Adhesiva...  \n",
       "\n",
       "[394 rows x 4 columns]"
      ]
     },
     "execution_count": 90,
     "metadata": {},
     "output_type": "execute_result"
    }
   ],
   "source": [
    "df"
   ]
  },
  {
   "cell_type": "code",
   "execution_count": 92,
   "metadata": {},
   "outputs": [],
   "source": [
    "df.to_csv('office_subcategories.csv')"
   ]
  },
  {
   "cell_type": "code",
   "execution_count": null,
   "metadata": {},
   "outputs": [],
   "source": [
    "import random"
   ]
  },
  {
   "cell_type": "code",
   "execution_count": 135,
   "metadata": {},
   "outputs": [],
   "source": [
    "soups = {}\n",
    "for i,r in df.iterrows():    \n",
    "    soups[r.Link]=soup_content_from_url(base_url+r.Link)\n",
    "    time.sleep(random.randint(1,5))"
   ]
  },
  {
   "cell_type": "code",
   "execution_count": 137,
   "metadata": {},
   "outputs": [
    {
     "data": {
      "text/plain": [
       "394"
      ]
     },
     "execution_count": 137,
     "metadata": {},
     "output_type": "execute_result"
    }
   ],
   "source": [
    "len(soups)\n",
    "from utils import save_obj"
   ]
  },
  {
   "cell_type": "markdown",
   "metadata": {},
   "source": [
    "### Saving pickle object with product html content\n",
    "We do this because if we need to re process the product html content in near future"
   ]
  },
  {
   "cell_type": "code",
   "execution_count": 153,
   "metadata": {},
   "outputs": [],
   "source": [
    "save_obj(soups,'product_soups')"
   ]
  },
  {
   "cell_type": "code",
   "execution_count": 264,
   "metadata": {},
   "outputs": [],
   "source": []
  },
  {
   "cell_type": "code",
   "execution_count": 292,
   "metadata": {
    "scrolled": true
   },
   "outputs": [
    {
     "name": "stderr",
     "output_type": "stream",
     "text": [
      "/home/chanchus/developments/amz-scrapper/venv/lib/python3.6/site-packages/bs4/element.py:1853: UserWarning: has_key is deprecated. Use has_attr(\"class\") instead.\n",
      "  key))\n"
     ]
    }
   ],
   "source": [
    "details = []\n",
    "for url,soup in soups.items():\n",
    "    d = detail_dict_from_product_page(soup,url)\n",
    "    d['Link'] = url\n",
    "    details.append(d)"
   ]
  },
  {
   "cell_type": "code",
   "execution_count": 293,
   "metadata": {},
   "outputs": [
    {
     "data": {
      "text/plain": [
       "0                Nuevos (13) desde 1,71 €y Envíos G...\n",
       "1                Nuevos (2) desde 1,19 €y Envíos GR...\n",
       "2                                                  NaN\n",
       "Name: sellers, dtype: object"
      ]
     },
     "execution_count": 293,
     "metadata": {},
     "output_type": "execute_result"
    }
   ],
   "source": [
    "detaildf = pd.DataFrame(details)\n",
    "detaildf[:3].sellers"
   ]
  },
  {
   "cell_type": "code",
   "execution_count": 295,
   "metadata": {},
   "outputs": [],
   "source": [
    "dfe = pd.merge(df,detaildf,on='Link')"
   ]
  },
  {
   "cell_type": "code",
   "execution_count": 296,
   "metadata": {},
   "outputs": [],
   "source": [
    "dfe.to_csv('office_subcategories_extended.csv')"
   ]
  },
  {
   "cell_type": "code",
   "execution_count": 294,
   "metadata": {},
   "outputs": [],
   "source": [
    "def detail_dict_from_product_page(soup,url):\n",
    "    detail = {}\n",
    "    def get_label_value_table(detailhtml):\n",
    "        detail = {}\n",
    "        tables = detailhtml.findAll('table')\n",
    "        for t in tables:\n",
    "            labels = t.findAll('td', attrs={'class':'label'})\n",
    "            values = t.findAll('td', attrs={'class':'value'})\n",
    "            for k,v in zip(labels,values):\n",
    "                detail[k.text] = v.text.replace(\"\\n\",\"\")\n",
    "        return detail\n",
    "    \n",
    "    def get_bucket_content_table(detailhtml):\n",
    "        detail = {}\n",
    "        li_elems = detailhtml.find('td', attrs={'class':'bucket'}).findAll('li')\n",
    "        for li in li_elems:\n",
    "            if li.has_attr('class'):\n",
    "                continue\n",
    "            if len(li.text.split(':')) < 2:\n",
    "                continue\n",
    "            label = li.text.split(':')[0]\n",
    "            value = li.text.split(':')[1]\n",
    "            detail[label] = value.replace(\"\\n\",\"\")\n",
    "        return detail\n",
    "    \n",
    "    detailhtml = soup.find('div', attrs={'id':'prodDetails'})\n",
    "        \n",
    "    if detailhtml:\n",
    "        detail = get_label_value_table(detailhtml)\n",
    "    else:\n",
    "        detailhtml = soup.find('div',attrs={'id':'detail_bullets_id'})\n",
    "        detail = get_bucket_content_table(detailhtml)\n",
    "    \n",
    "    sellers = soup.find('div', attrs={'id':'olp-upd-new-freeshipping-threshold'})\n",
    "    if sellers:\n",
    "        detail['sellers'] = sellers.text.replace(\"\\n\",\"\")\n",
    "    else:\n",
    "        sellers = soup.find('div', attrs={'id':'olp-new'})\n",
    "        if sellers:\n",
    "            detail['sellers'] = sellers.text.replace(\"\\n\",\"\")\n",
    "    \n",
    "    return detail"
   ]
  },
  {
   "cell_type": "code",
   "execution_count": null,
   "metadata": {},
   "outputs": [],
   "source": []
  }
 ],
 "metadata": {
  "kernelspec": {
   "display_name": "Python 3",
   "language": "python",
   "name": "python3"
  },
  "language_info": {
   "codemirror_mode": {
    "name": "ipython",
    "version": 3
   },
   "file_extension": ".py",
   "mimetype": "text/x-python",
   "name": "python",
   "nbconvert_exporter": "python",
   "pygments_lexer": "ipython3",
   "version": "3.6.9"
  }
 },
 "nbformat": 4,
 "nbformat_minor": 4
}
