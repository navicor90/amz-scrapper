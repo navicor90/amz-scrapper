{
 "cells": [
  {
   "cell_type": "markdown",
   "metadata": {},
   "source": [
    "\n",
    "## About this project\n",
    "\n",
    "We want a csv with data about most sold products in amazon, because we want to check in another websites if this products are cheaper and we can re-sell in amazon. To do this, we need specific information like the product model,brand,price, merchants, how often is sold, etc.\n",
    "\n",
    "I will scrap in a specific main category of products (I already know some other sites selling this products with cheaper prices :D ). \n",
    "\n",
    "Technologies used:\n",
    "- Selenium\n",
    "- BeautifulSoup (utils.py)\n",
    "- Pandas"
   ]
  },
  {
   "cell_type": "code",
   "execution_count": 1,
   "metadata": {},
   "outputs": [],
   "source": [
    "%load_ext autoreload\n",
    "%autoreload 2"
   ]
  },
  {
   "cell_type": "code",
   "execution_count": 2,
   "metadata": {},
   "outputs": [],
   "source": [
    "from selenium import webdriver\n",
    "import pandas as pd\n",
    "import time\n",
    "import random\n",
    "import sys\n",
    "import os\n",
    "sys.path.append(os.path.abspath('../'))\n",
    "from utils import (soup_content_from_url,\n",
    "                    elements_from_soup_bestsellers_web, \n",
    "                    subcategories_from_bestsellers_web,\n",
    "                    detail_dict_from_product_page,\n",
    "                    load_obj,\n",
    "                    save_soup)"
   ]
  },
  {
   "cell_type": "markdown",
   "metadata": {},
   "source": [
    "### Scrapping data"
   ]
  },
  {
   "cell_type": "code",
   "execution_count": 3,
   "metadata": {},
   "outputs": [],
   "source": [
    "driver = webdriver.Firefox()\n",
    "soups = []"
   ]
  },
  {
   "cell_type": "code",
   "execution_count": 4,
   "metadata": {},
   "outputs": [],
   "source": [
    "base_url = 'https://www.inmoclick.com.ar'\n",
    "houses_list = \"/inmuebles/venta/lotes-y-terrenos/mendoza\"\n",
    "#houses_list = \"/inmuebles/venta/casas/mendoza\"\n",
    "params = \"?favoritos=0&limit=48&prevEstadoMap=&provincias=21&precio%5Bmin%5D=&precio%5Bmax%5D=&moneda=1&sup_cubierta%5Bmin%5D=&sup_cubierta%5Bmax%5D=&sup_total%5Bmin%5D=&sup_total%5Bmax%5D=&page=\"\n",
    "url = base_url+houses_list+(params+str(1))\n",
    "\n",
    "soups.append(soup_content_from_url(driver, url))"
   ]
  },
  {
   "cell_type": "code",
   "execution_count": null,
   "metadata": {},
   "outputs": [],
   "source": []
  },
  {
   "cell_type": "code",
   "execution_count": 5,
   "metadata": {},
   "outputs": [
    {
     "name": "stdout",
     "output_type": "stream",
     "text": [
      "https://www.inmoclick.com.ar/inmuebles/venta/lotes-y-terrenos/mendoza?favoritos=0&limit=48&prevEstadoMap=&provincias=21&precio%5Bmin%5D=&precio%5Bmax%5D=&moneda=1&sup_cubierta%5Bmin%5D=&sup_cubierta%5Bmax%5D=&sup_total%5Bmin%5D=&sup_total%5Bmax%5D=&page=2\n",
      "https://www.inmoclick.com.ar/inmuebles/venta/lotes-y-terrenos/mendoza?favoritos=0&limit=48&prevEstadoMap=&provincias=21&precio%5Bmin%5D=&precio%5Bmax%5D=&moneda=1&sup_cubierta%5Bmin%5D=&sup_cubierta%5Bmax%5D=&sup_total%5Bmin%5D=&sup_total%5Bmax%5D=&page=3\n",
      "https://www.inmoclick.com.ar/inmuebles/venta/lotes-y-terrenos/mendoza?favoritos=0&limit=48&prevEstadoMap=&provincias=21&precio%5Bmin%5D=&precio%5Bmax%5D=&moneda=1&sup_cubierta%5Bmin%5D=&sup_cubierta%5Bmax%5D=&sup_total%5Bmin%5D=&sup_total%5Bmax%5D=&page=4\n",
      "https://www.inmoclick.com.ar/inmuebles/venta/lotes-y-terrenos/mendoza?favoritos=0&limit=48&prevEstadoMap=&provincias=21&precio%5Bmin%5D=&precio%5Bmax%5D=&moneda=1&sup_cubierta%5Bmin%5D=&sup_cubierta%5Bmax%5D=&sup_total%5Bmin%5D=&sup_total%5Bmax%5D=&page=5\n",
      "https://www.inmoclick.com.ar/inmuebles/venta/lotes-y-terrenos/mendoza?favoritos=0&limit=48&prevEstadoMap=&provincias=21&precio%5Bmin%5D=&precio%5Bmax%5D=&moneda=1&sup_cubierta%5Bmin%5D=&sup_cubierta%5Bmax%5D=&sup_total%5Bmin%5D=&sup_total%5Bmax%5D=&page=6\n",
      "https://www.inmoclick.com.ar/inmuebles/venta/lotes-y-terrenos/mendoza?favoritos=0&limit=48&prevEstadoMap=&provincias=21&precio%5Bmin%5D=&precio%5Bmax%5D=&moneda=1&sup_cubierta%5Bmin%5D=&sup_cubierta%5Bmax%5D=&sup_total%5Bmin%5D=&sup_total%5Bmax%5D=&page=7\n",
      "https://www.inmoclick.com.ar/inmuebles/venta/lotes-y-terrenos/mendoza?favoritos=0&limit=48&prevEstadoMap=&provincias=21&precio%5Bmin%5D=&precio%5Bmax%5D=&moneda=1&sup_cubierta%5Bmin%5D=&sup_cubierta%5Bmax%5D=&sup_total%5Bmin%5D=&sup_total%5Bmax%5D=&page=8\n",
      "https://www.inmoclick.com.ar/inmuebles/venta/lotes-y-terrenos/mendoza?favoritos=0&limit=48&prevEstadoMap=&provincias=21&precio%5Bmin%5D=&precio%5Bmax%5D=&moneda=1&sup_cubierta%5Bmin%5D=&sup_cubierta%5Bmax%5D=&sup_total%5Bmin%5D=&sup_total%5Bmax%5D=&page=9\n",
      "https://www.inmoclick.com.ar/inmuebles/venta/lotes-y-terrenos/mendoza?favoritos=0&limit=48&prevEstadoMap=&provincias=21&precio%5Bmin%5D=&precio%5Bmax%5D=&moneda=1&sup_cubierta%5Bmin%5D=&sup_cubierta%5Bmax%5D=&sup_total%5Bmin%5D=&sup_total%5Bmax%5D=&page=10\n",
      "https://www.inmoclick.com.ar/inmuebles/venta/lotes-y-terrenos/mendoza?favoritos=0&limit=48&prevEstadoMap=&provincias=21&precio%5Bmin%5D=&precio%5Bmax%5D=&moneda=1&sup_cubierta%5Bmin%5D=&sup_cubierta%5Bmax%5D=&sup_total%5Bmin%5D=&sup_total%5Bmax%5D=&page=11\n",
      "https://www.inmoclick.com.ar/inmuebles/venta/lotes-y-terrenos/mendoza?favoritos=0&limit=48&prevEstadoMap=&provincias=21&precio%5Bmin%5D=&precio%5Bmax%5D=&moneda=1&sup_cubierta%5Bmin%5D=&sup_cubierta%5Bmax%5D=&sup_total%5Bmin%5D=&sup_total%5Bmax%5D=&page=12\n",
      "https://www.inmoclick.com.ar/inmuebles/venta/lotes-y-terrenos/mendoza?favoritos=0&limit=48&prevEstadoMap=&provincias=21&precio%5Bmin%5D=&precio%5Bmax%5D=&moneda=1&sup_cubierta%5Bmin%5D=&sup_cubierta%5Bmax%5D=&sup_total%5Bmin%5D=&sup_total%5Bmax%5D=&page=13\n",
      "https://www.inmoclick.com.ar/inmuebles/venta/lotes-y-terrenos/mendoza?favoritos=0&limit=48&prevEstadoMap=&provincias=21&precio%5Bmin%5D=&precio%5Bmax%5D=&moneda=1&sup_cubierta%5Bmin%5D=&sup_cubierta%5Bmax%5D=&sup_total%5Bmin%5D=&sup_total%5Bmax%5D=&page=14\n",
      "https://www.inmoclick.com.ar/inmuebles/venta/lotes-y-terrenos/mendoza?favoritos=0&limit=48&prevEstadoMap=&provincias=21&precio%5Bmin%5D=&precio%5Bmax%5D=&moneda=1&sup_cubierta%5Bmin%5D=&sup_cubierta%5Bmax%5D=&sup_total%5Bmin%5D=&sup_total%5Bmax%5D=&page=15\n",
      "https://www.inmoclick.com.ar/inmuebles/venta/lotes-y-terrenos/mendoza?favoritos=0&limit=48&prevEstadoMap=&provincias=21&precio%5Bmin%5D=&precio%5Bmax%5D=&moneda=1&sup_cubierta%5Bmin%5D=&sup_cubierta%5Bmax%5D=&sup_total%5Bmin%5D=&sup_total%5Bmax%5D=&page=16\n",
      "https://www.inmoclick.com.ar/inmuebles/venta/lotes-y-terrenos/mendoza?favoritos=0&limit=48&prevEstadoMap=&provincias=21&precio%5Bmin%5D=&precio%5Bmax%5D=&moneda=1&sup_cubierta%5Bmin%5D=&sup_cubierta%5Bmax%5D=&sup_total%5Bmin%5D=&sup_total%5Bmax%5D=&page=17\n",
      "https://www.inmoclick.com.ar/inmuebles/venta/lotes-y-terrenos/mendoza?favoritos=0&limit=48&prevEstadoMap=&provincias=21&precio%5Bmin%5D=&precio%5Bmax%5D=&moneda=1&sup_cubierta%5Bmin%5D=&sup_cubierta%5Bmax%5D=&sup_total%5Bmin%5D=&sup_total%5Bmax%5D=&page=18\n",
      "https://www.inmoclick.com.ar/inmuebles/venta/lotes-y-terrenos/mendoza?favoritos=0&limit=48&prevEstadoMap=&provincias=21&precio%5Bmin%5D=&precio%5Bmax%5D=&moneda=1&sup_cubierta%5Bmin%5D=&sup_cubierta%5Bmax%5D=&sup_total%5Bmin%5D=&sup_total%5Bmax%5D=&page=19\n",
      "https://www.inmoclick.com.ar/inmuebles/venta/lotes-y-terrenos/mendoza?favoritos=0&limit=48&prevEstadoMap=&provincias=21&precio%5Bmin%5D=&precio%5Bmax%5D=&moneda=1&sup_cubierta%5Bmin%5D=&sup_cubierta%5Bmax%5D=&sup_total%5Bmin%5D=&sup_total%5Bmax%5D=&page=20\n",
      "https://www.inmoclick.com.ar/inmuebles/venta/lotes-y-terrenos/mendoza?favoritos=0&limit=48&prevEstadoMap=&provincias=21&precio%5Bmin%5D=&precio%5Bmax%5D=&moneda=1&sup_cubierta%5Bmin%5D=&sup_cubierta%5Bmax%5D=&sup_total%5Bmin%5D=&sup_total%5Bmax%5D=&page=21\n",
      "https://www.inmoclick.com.ar/inmuebles/venta/lotes-y-terrenos/mendoza?favoritos=0&limit=48&prevEstadoMap=&provincias=21&precio%5Bmin%5D=&precio%5Bmax%5D=&moneda=1&sup_cubierta%5Bmin%5D=&sup_cubierta%5Bmax%5D=&sup_total%5Bmin%5D=&sup_total%5Bmax%5D=&page=22\n",
      "https://www.inmoclick.com.ar/inmuebles/venta/lotes-y-terrenos/mendoza?favoritos=0&limit=48&prevEstadoMap=&provincias=21&precio%5Bmin%5D=&precio%5Bmax%5D=&moneda=1&sup_cubierta%5Bmin%5D=&sup_cubierta%5Bmax%5D=&sup_total%5Bmin%5D=&sup_total%5Bmax%5D=&page=23\n",
      "https://www.inmoclick.com.ar/inmuebles/venta/lotes-y-terrenos/mendoza?favoritos=0&limit=48&prevEstadoMap=&provincias=21&precio%5Bmin%5D=&precio%5Bmax%5D=&moneda=1&sup_cubierta%5Bmin%5D=&sup_cubierta%5Bmax%5D=&sup_total%5Bmin%5D=&sup_total%5Bmax%5D=&page=24\n",
      "https://www.inmoclick.com.ar/inmuebles/venta/lotes-y-terrenos/mendoza?favoritos=0&limit=48&prevEstadoMap=&provincias=21&precio%5Bmin%5D=&precio%5Bmax%5D=&moneda=1&sup_cubierta%5Bmin%5D=&sup_cubierta%5Bmax%5D=&sup_total%5Bmin%5D=&sup_total%5Bmax%5D=&page=25\n",
      "https://www.inmoclick.com.ar/inmuebles/venta/lotes-y-terrenos/mendoza?favoritos=0&limit=48&prevEstadoMap=&provincias=21&precio%5Bmin%5D=&precio%5Bmax%5D=&moneda=1&sup_cubierta%5Bmin%5D=&sup_cubierta%5Bmax%5D=&sup_total%5Bmin%5D=&sup_total%5Bmax%5D=&page=26\n",
      "https://www.inmoclick.com.ar/inmuebles/venta/lotes-y-terrenos/mendoza?favoritos=0&limit=48&prevEstadoMap=&provincias=21&precio%5Bmin%5D=&precio%5Bmax%5D=&moneda=1&sup_cubierta%5Bmin%5D=&sup_cubierta%5Bmax%5D=&sup_total%5Bmin%5D=&sup_total%5Bmax%5D=&page=27\n",
      "https://www.inmoclick.com.ar/inmuebles/venta/lotes-y-terrenos/mendoza?favoritos=0&limit=48&prevEstadoMap=&provincias=21&precio%5Bmin%5D=&precio%5Bmax%5D=&moneda=1&sup_cubierta%5Bmin%5D=&sup_cubierta%5Bmax%5D=&sup_total%5Bmin%5D=&sup_total%5Bmax%5D=&page=28\n",
      "https://www.inmoclick.com.ar/inmuebles/venta/lotes-y-terrenos/mendoza?favoritos=0&limit=48&prevEstadoMap=&provincias=21&precio%5Bmin%5D=&precio%5Bmax%5D=&moneda=1&sup_cubierta%5Bmin%5D=&sup_cubierta%5Bmax%5D=&sup_total%5Bmin%5D=&sup_total%5Bmax%5D=&page=29\n",
      "https://www.inmoclick.com.ar/inmuebles/venta/lotes-y-terrenos/mendoza?favoritos=0&limit=48&prevEstadoMap=&provincias=21&precio%5Bmin%5D=&precio%5Bmax%5D=&moneda=1&sup_cubierta%5Bmin%5D=&sup_cubierta%5Bmax%5D=&sup_total%5Bmin%5D=&sup_total%5Bmax%5D=&page=30\n",
      "https://www.inmoclick.com.ar/inmuebles/venta/lotes-y-terrenos/mendoza?favoritos=0&limit=48&prevEstadoMap=&provincias=21&precio%5Bmin%5D=&precio%5Bmax%5D=&moneda=1&sup_cubierta%5Bmin%5D=&sup_cubierta%5Bmax%5D=&sup_total%5Bmin%5D=&sup_total%5Bmax%5D=&page=31\n",
      "https://www.inmoclick.com.ar/inmuebles/venta/lotes-y-terrenos/mendoza?favoritos=0&limit=48&prevEstadoMap=&provincias=21&precio%5Bmin%5D=&precio%5Bmax%5D=&moneda=1&sup_cubierta%5Bmin%5D=&sup_cubierta%5Bmax%5D=&sup_total%5Bmin%5D=&sup_total%5Bmax%5D=&page=32\n",
      "https://www.inmoclick.com.ar/inmuebles/venta/lotes-y-terrenos/mendoza?favoritos=0&limit=48&prevEstadoMap=&provincias=21&precio%5Bmin%5D=&precio%5Bmax%5D=&moneda=1&sup_cubierta%5Bmin%5D=&sup_cubierta%5Bmax%5D=&sup_total%5Bmin%5D=&sup_total%5Bmax%5D=&page=33\n"
     ]
    },
    {
     "name": "stdout",
     "output_type": "stream",
     "text": [
      "https://www.inmoclick.com.ar/inmuebles/venta/lotes-y-terrenos/mendoza?favoritos=0&limit=48&prevEstadoMap=&provincias=21&precio%5Bmin%5D=&precio%5Bmax%5D=&moneda=1&sup_cubierta%5Bmin%5D=&sup_cubierta%5Bmax%5D=&sup_total%5Bmin%5D=&sup_total%5Bmax%5D=&page=34\n",
      "https://www.inmoclick.com.ar/inmuebles/venta/lotes-y-terrenos/mendoza?favoritos=0&limit=48&prevEstadoMap=&provincias=21&precio%5Bmin%5D=&precio%5Bmax%5D=&moneda=1&sup_cubierta%5Bmin%5D=&sup_cubierta%5Bmax%5D=&sup_total%5Bmin%5D=&sup_total%5Bmax%5D=&page=35\n",
      "https://www.inmoclick.com.ar/inmuebles/venta/lotes-y-terrenos/mendoza?favoritos=0&limit=48&prevEstadoMap=&provincias=21&precio%5Bmin%5D=&precio%5Bmax%5D=&moneda=1&sup_cubierta%5Bmin%5D=&sup_cubierta%5Bmax%5D=&sup_total%5Bmin%5D=&sup_total%5Bmax%5D=&page=36\n",
      "https://www.inmoclick.com.ar/inmuebles/venta/lotes-y-terrenos/mendoza?favoritos=0&limit=48&prevEstadoMap=&provincias=21&precio%5Bmin%5D=&precio%5Bmax%5D=&moneda=1&sup_cubierta%5Bmin%5D=&sup_cubierta%5Bmax%5D=&sup_total%5Bmin%5D=&sup_total%5Bmax%5D=&page=37\n",
      "https://www.inmoclick.com.ar/inmuebles/venta/lotes-y-terrenos/mendoza?favoritos=0&limit=48&prevEstadoMap=&provincias=21&precio%5Bmin%5D=&precio%5Bmax%5D=&moneda=1&sup_cubierta%5Bmin%5D=&sup_cubierta%5Bmax%5D=&sup_total%5Bmin%5D=&sup_total%5Bmax%5D=&page=38\n",
      "https://www.inmoclick.com.ar/inmuebles/venta/lotes-y-terrenos/mendoza?favoritos=0&limit=48&prevEstadoMap=&provincias=21&precio%5Bmin%5D=&precio%5Bmax%5D=&moneda=1&sup_cubierta%5Bmin%5D=&sup_cubierta%5Bmax%5D=&sup_total%5Bmin%5D=&sup_total%5Bmax%5D=&page=39\n",
      "https://www.inmoclick.com.ar/inmuebles/venta/lotes-y-terrenos/mendoza?favoritos=0&limit=48&prevEstadoMap=&provincias=21&precio%5Bmin%5D=&precio%5Bmax%5D=&moneda=1&sup_cubierta%5Bmin%5D=&sup_cubierta%5Bmax%5D=&sup_total%5Bmin%5D=&sup_total%5Bmax%5D=&page=40\n",
      "https://www.inmoclick.com.ar/inmuebles/venta/lotes-y-terrenos/mendoza?favoritos=0&limit=48&prevEstadoMap=&provincias=21&precio%5Bmin%5D=&precio%5Bmax%5D=&moneda=1&sup_cubierta%5Bmin%5D=&sup_cubierta%5Bmax%5D=&sup_total%5Bmin%5D=&sup_total%5Bmax%5D=&page=41\n",
      "https://www.inmoclick.com.ar/inmuebles/venta/lotes-y-terrenos/mendoza?favoritos=0&limit=48&prevEstadoMap=&provincias=21&precio%5Bmin%5D=&precio%5Bmax%5D=&moneda=1&sup_cubierta%5Bmin%5D=&sup_cubierta%5Bmax%5D=&sup_total%5Bmin%5D=&sup_total%5Bmax%5D=&page=42\n",
      "https://www.inmoclick.com.ar/inmuebles/venta/lotes-y-terrenos/mendoza?favoritos=0&limit=48&prevEstadoMap=&provincias=21&precio%5Bmin%5D=&precio%5Bmax%5D=&moneda=1&sup_cubierta%5Bmin%5D=&sup_cubierta%5Bmax%5D=&sup_total%5Bmin%5D=&sup_total%5Bmax%5D=&page=43\n",
      "https://www.inmoclick.com.ar/inmuebles/venta/lotes-y-terrenos/mendoza?favoritos=0&limit=48&prevEstadoMap=&provincias=21&precio%5Bmin%5D=&precio%5Bmax%5D=&moneda=1&sup_cubierta%5Bmin%5D=&sup_cubierta%5Bmax%5D=&sup_total%5Bmin%5D=&sup_total%5Bmax%5D=&page=44\n"
     ]
    }
   ],
   "source": [
    "from urllib.parse import urlparse\n",
    "import random\n",
    "\n",
    "def inmoclick_last_page(html_soup):\n",
    "    last_page_url = urlparse(html_soup.find('span',attrs={'class':'last'}).a.get('href'))\n",
    "    last_page_number = int(last_page_url.query.split('&page=')[1])\n",
    "    return last_page_number\n",
    "\n",
    "pages_range = range(2,inmoclick_last_page(soups[0]))\n",
    "for p in pages_range:\n",
    "    url = base_url+houses_list+(params + str(p))\n",
    "    print(url)\n",
    "    s = soup_content_from_url(driver, url)\n",
    "    soups.append(s)\n",
    "    save_soup(s,str(p))\n",
    "    time.sleep(random.randint(1,5))"
   ]
  },
  {
   "cell_type": "code",
   "execution_count": 6,
   "metadata": {},
   "outputs": [
    {
     "data": {
      "text/plain": [
       "2112"
      ]
     },
     "execution_count": 6,
     "metadata": {},
     "output_type": "execute_result"
    }
   ],
   "source": [
    "articles = []\n",
    "for s in soups:\n",
    "    articles = articles + s.find('div',attrs={'class':'cont-articles'}).findAll('article')\n",
    "len(articles)"
   ]
  },
  {
   "cell_type": "code",
   "execution_count": 101,
   "metadata": {},
   "outputs": [],
   "source": [
    "from datetime import datetime\n",
    "from property_utils import InmoclickSearchItem, PropertyType, Property"
   ]
  },
  {
   "cell_type": "code",
   "execution_count": 107,
   "metadata": {},
   "outputs": [
    {
     "data": {
      "text/plain": [
       "['inmueble-85193-2',\n",
       " 'Las Heras',\n",
       " 'Las Heras',\n",
       " 'Mendoza',\n",
       " 'US$',\n",
       " 23000.0,\n",
       " 'US$ 23.000',\n",
       " '/19352-carballo-inmobiliaria/inmuebles/784/ficha/lote-en-venta-en-regalado-olguin-s-n?btid=2607340/85193-helga-petek/inmuebles/2/ficha/lote-en-venta-en-las-heras',\n",
       " 'Terro en calle Perón de Las Heras Mendoza se escucha oferta contado .escucho oferta en pesos a dólar blue.',\n",
       " <PropertyType.LAND: 'land'>,\n",
       " None,\n",
       " '/19352-carballo-inmobiliaria/inmuebles/784/ficha/lote-en-venta-en-regalado-olguin-s-n?btid=2607340',\n",
       " 1,\n",
       " datetime.datetime(2020, 5, 29, 21, 10, 3, 695962),\n",
       " '365',\n",
       " None,\n",
       " None,\n",
       " None,\n",
       " None,\n",
       " True,\n",
       " True,\n",
       " True]"
      ]
     },
     "execution_count": 107,
     "metadata": {},
     "output_type": "execute_result"
    }
   ],
   "source": [
    "html_article = articles[0]\n",
    "isi = InmoclickSearchItem(html_article, PropertyType.LAND)\n",
    "property_dict = isi.to_dict()\n",
    "property_dict['url'] = base_url + property_dict['url']\n",
    "property_dict['recent_id'] = 1\n",
    "property_dict['source_web'] = base_url\n",
    "p = Property(property_dict)\n",
    "p.to_list()"
   ]
  },
  {
   "cell_type": "code",
   "execution_count": 103,
   "metadata": {},
   "outputs": [
    {
     "data": {
      "text/plain": [
       "2112"
      ]
     },
     "execution_count": 103,
     "metadata": {},
     "output_type": "execute_result"
    }
   ],
   "source": [
    "properties = []\n",
    "data = []\n",
    "for i,a in enumerate(articles):\n",
    "    isi = InmoclickSearchItem(a, PropertyType.LAND)\n",
    "    property_dict = isi.to_dict()\n",
    "    property_dict['url'] = base_url + property_dict['url']\n",
    "    property_dict['recent_id'] = i+1\n",
    "    property_dict['source_web'] = base_url\n",
    "    p = Property(property_dict)\n",
    "    properties.append(h)\n",
    "    data.append(p.to_list())\n",
    "len(data)"
   ]
  },
  {
   "cell_type": "code",
   "execution_count": 104,
   "metadata": {},
   "outputs": [
    {
     "data": {
      "text/html": [
       "<div>\n",
       "<style scoped>\n",
       "    .dataframe tbody tr th:only-of-type {\n",
       "        vertical-align: middle;\n",
       "    }\n",
       "\n",
       "    .dataframe tbody tr th {\n",
       "        vertical-align: top;\n",
       "    }\n",
       "\n",
       "    .dataframe thead th {\n",
       "        text-align: right;\n",
       "    }\n",
       "</style>\n",
       "<table border=\"1\" class=\"dataframe\">\n",
       "  <thead>\n",
       "    <tr style=\"text-align: right;\">\n",
       "      <th></th>\n",
       "      <th>ref_id</th>\n",
       "      <th>neighborhood</th>\n",
       "      <th>district</th>\n",
       "      <th>province</th>\n",
       "      <th>currency</th>\n",
       "      <th>amount</th>\n",
       "      <th>price</th>\n",
       "      <th>url</th>\n",
       "      <th>description</th>\n",
       "      <th>property_type</th>\n",
       "      <th>...</th>\n",
       "      <th>recent_id</th>\n",
       "      <th>scrapped_date</th>\n",
       "      <th>totalArea</th>\n",
       "      <th>floorArea</th>\n",
       "      <th>bedrooms</th>\n",
       "      <th>bathrooms</th>\n",
       "      <th>garage</th>\n",
       "      <th>has_gas</th>\n",
       "      <th>has_water</th>\n",
       "      <th>has_electricity</th>\n",
       "    </tr>\n",
       "  </thead>\n",
       "  <tbody>\n",
       "    <tr>\n",
       "      <th>0</th>\n",
       "      <td>inmueble-85193-2</td>\n",
       "      <td>Las Heras</td>\n",
       "      <td>Las Heras</td>\n",
       "      <td>Mendoza</td>\n",
       "      <td>US$</td>\n",
       "      <td>23000.0</td>\n",
       "      <td>US$ 23.000</td>\n",
       "      <td>/19352-carballo-inmobiliaria/inmuebles/784/fic...</td>\n",
       "      <td>Terro en calle Perón de Las Heras Mendoza se e...</td>\n",
       "      <td>PropertyType.LAND</td>\n",
       "      <td>...</td>\n",
       "      <td>1</td>\n",
       "      <td>2020-05-29 19:06:13.881371</td>\n",
       "      <td>365</td>\n",
       "      <td>None</td>\n",
       "      <td>None</td>\n",
       "      <td>None</td>\n",
       "      <td>None</td>\n",
       "      <td>True</td>\n",
       "      <td>True</td>\n",
       "      <td>True</td>\n",
       "    </tr>\n",
       "    <tr>\n",
       "      <th>1</th>\n",
       "      <td>inmueble-71779-71</td>\n",
       "      <td>Primitivo de la Reta y Alsina</td>\n",
       "      <td>Godoy Cruz</td>\n",
       "      <td>Mendoza</td>\n",
       "      <td>US$</td>\n",
       "      <td>560000.0</td>\n",
       "      <td>US$ 560.000</td>\n",
       "      <td>/19352-carballo-inmobiliaria/inmuebles/784/fic...</td>\n",
       "      <td>GREENWOOD VENDE EN GODOY CRUZ ESPECTACULAR TER...</td>\n",
       "      <td>PropertyType.LAND</td>\n",
       "      <td>...</td>\n",
       "      <td>2</td>\n",
       "      <td>2020-05-29 19:06:13.884346</td>\n",
       "      <td>2800</td>\n",
       "      <td>None</td>\n",
       "      <td>None</td>\n",
       "      <td>None</td>\n",
       "      <td>None</td>\n",
       "      <td>True</td>\n",
       "      <td>True</td>\n",
       "      <td>True</td>\n",
       "    </tr>\n",
       "    <tr>\n",
       "      <th>2</th>\n",
       "      <td>inmueble-71779-65</td>\n",
       "      <td>Pinares de Furlotti</td>\n",
       "      <td>Maipu</td>\n",
       "      <td>Mendoza</td>\n",
       "      <td>US$</td>\n",
       "      <td>20000.0</td>\n",
       "      <td>US$ 20.000</td>\n",
       "      <td>/19352-carballo-inmobiliaria/inmuebles/784/fic...</td>\n",
       "      <td>GREENWOOD VENDE OPORTUNIDAD INCREIBLE\\n\\nPINAR...</td>\n",
       "      <td>PropertyType.LAND</td>\n",
       "      <td>...</td>\n",
       "      <td>3</td>\n",
       "      <td>2020-05-29 19:06:13.886947</td>\n",
       "      <td>350</td>\n",
       "      <td>None</td>\n",
       "      <td>None</td>\n",
       "      <td>None</td>\n",
       "      <td>None</td>\n",
       "      <td>True</td>\n",
       "      <td>True</td>\n",
       "      <td>True</td>\n",
       "    </tr>\n",
       "  </tbody>\n",
       "</table>\n",
       "<p>3 rows × 22 columns</p>\n",
       "</div>"
      ],
      "text/plain": [
       "              ref_id                   neighborhood    district province  \\\n",
       "0   inmueble-85193-2                      Las Heras   Las Heras  Mendoza   \n",
       "1  inmueble-71779-71  Primitivo de la Reta y Alsina  Godoy Cruz  Mendoza   \n",
       "2  inmueble-71779-65            Pinares de Furlotti       Maipu  Mendoza   \n",
       "\n",
       "  currency    amount        price  \\\n",
       "0      US$   23000.0   US$ 23.000   \n",
       "1      US$  560000.0  US$ 560.000   \n",
       "2      US$   20000.0   US$ 20.000   \n",
       "\n",
       "                                                 url  \\\n",
       "0  /19352-carballo-inmobiliaria/inmuebles/784/fic...   \n",
       "1  /19352-carballo-inmobiliaria/inmuebles/784/fic...   \n",
       "2  /19352-carballo-inmobiliaria/inmuebles/784/fic...   \n",
       "\n",
       "                                         description      property_type  ...  \\\n",
       "0  Terro en calle Perón de Las Heras Mendoza se e...  PropertyType.LAND  ...   \n",
       "1  GREENWOOD VENDE EN GODOY CRUZ ESPECTACULAR TER...  PropertyType.LAND  ...   \n",
       "2  GREENWOOD VENDE OPORTUNIDAD INCREIBLE\\n\\nPINAR...  PropertyType.LAND  ...   \n",
       "\n",
       "  recent_id              scrapped_date  totalArea floorArea bedrooms  \\\n",
       "0         1 2020-05-29 19:06:13.881371        365      None     None   \n",
       "1         2 2020-05-29 19:06:13.884346       2800      None     None   \n",
       "2         3 2020-05-29 19:06:13.886947        350      None     None   \n",
       "\n",
       "  bathrooms garage has_gas has_water  has_electricity  \n",
       "0      None   None    True      True             True  \n",
       "1      None   None    True      True             True  \n",
       "2      None   None    True      True             True  \n",
       "\n",
       "[3 rows x 22 columns]"
      ]
     },
     "execution_count": 104,
     "metadata": {},
     "output_type": "execute_result"
    }
   ],
   "source": [
    "df = pd.DataFrame(data,columns=Property.attributes_order())\n",
    "df.head(3)"
   ]
  },
  {
   "cell_type": "code",
   "execution_count": 105,
   "metadata": {},
   "outputs": [],
   "source": [
    "df.to_csv('out-venta-lotes-y-terrenos.csv',index=False)"
   ]
  },
  {
   "cell_type": "code",
   "execution_count": 66,
   "metadata": {},
   "outputs": [
    {
     "data": {
      "text/plain": [
       "currency\n",
       "$       371\n",
       "US$    1354\n",
       "Name: ref_id, dtype: int64"
      ]
     },
     "execution_count": 66,
     "metadata": {},
     "output_type": "execute_result"
    }
   ],
   "source": [
    "df.groupby('currency').count()['ref_id']"
   ]
  },
  {
   "cell_type": "code",
   "execution_count": 68,
   "metadata": {},
   "outputs": [
    {
     "data": {
      "text/plain": [
       "1362"
      ]
     },
     "execution_count": 68,
     "metadata": {},
     "output_type": "execute_result"
    }
   ],
   "source": [
    "df.has_gas.sum()"
   ]
  },
  {
   "cell_type": "code",
   "execution_count": 84,
   "metadata": {},
   "outputs": [
    {
     "data": {
      "text/plain": [
       "29        10.000\n",
       "68        16.500\n",
       "109      1857.26\n",
       "230      464.51 \n",
       "232      508.31 \n",
       "          ...   \n",
       "2029    19769.27\n",
       "2037     1105.15\n",
       "2063      298.39\n",
       "2075      508.94\n",
       "2084      628.16\n",
       "Name: totalArea, Length: 111, dtype: object"
      ]
     },
     "execution_count": 84,
     "metadata": {},
     "output_type": "execute_result"
    }
   ],
   "source": [
    "df.totalArea[~df.totalArea.str.isnumeric()]"
   ]
  },
  {
   "cell_type": "code",
   "execution_count": 87,
   "metadata": {},
   "outputs": [],
   "source": [
    "df.totalArea = pd.to_numeric(df.totalArea, errors='coerce')"
   ]
  },
  {
   "cell_type": "code",
   "execution_count": null,
   "metadata": {},
   "outputs": [],
   "source": []
  }
 ],
 "metadata": {
  "kernelspec": {
   "display_name": "Python 3",
   "language": "python",
   "name": "python3"
  },
  "language_info": {
   "codemirror_mode": {
    "name": "ipython",
    "version": 3
   },
   "file_extension": ".py",
   "mimetype": "text/x-python",
   "name": "python",
   "nbconvert_exporter": "python",
   "pygments_lexer": "ipython3",
   "version": "3.6.9"
  }
 },
 "nbformat": 4,
 "nbformat_minor": 4
}
